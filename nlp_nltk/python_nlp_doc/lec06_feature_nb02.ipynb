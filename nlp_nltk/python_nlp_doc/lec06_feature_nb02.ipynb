{
 "cells": [
  {
   "cell_type": "code",
   "execution_count": 1,
   "metadata": {
    "collapsed": true
   },
   "outputs": [],
   "source": [
    "# 监督学习：特征提取，语言模型的构建\n",
    "# 决策树，朴素贝叶斯分类器，最大熵分类"
   ]
  },
  {
   "cell_type": "code",
   "execution_count": 2,
   "metadata": {
    "collapsed": true
   },
   "outputs": [],
   "source": [
    "def gender_features(word):\n",
    "    '''\n",
    "    特征提取生成器\n",
    "    '''\n",
    "    return {'last_letter':word[-1]}"
   ]
  },
  {
   "cell_type": "code",
   "execution_count": 3,
   "metadata": {},
   "outputs": [
    {
     "data": {
      "text/plain": [
       "{'last_letter': 'k'}"
      ]
     },
     "execution_count": 3,
     "metadata": {},
     "output_type": "execute_result"
    }
   ],
   "source": [
    "# 验证特征提取生成函数\n",
    "gender_features('Shrek')\n",
    "# 这个函数返回的字典被称为特征集，映射特征名称到它们的值。特征名称是区分大小写的字符串，特征值是简单类型的值，如布尔，数字和字符串。"
   ]
  },
  {
   "cell_type": "code",
   "execution_count": 4,
   "metadata": {
    "collapsed": true
   },
   "outputs": [],
   "source": [
    "from nltk.corpus import names\n",
    "import nltk\n",
    "import random"
   ]
  },
  {
   "cell_type": "code",
   "execution_count": 5,
   "metadata": {
    "collapsed": true
   },
   "outputs": [],
   "source": [
    "names = ([(name,'male') for name in names.words('male.txt')]+\n",
    "        [(name,'female') for name in names.words('female.txt')])"
   ]
  },
  {
   "cell_type": "code",
   "execution_count": 6,
   "metadata": {
    "collapsed": true
   },
   "outputs": [],
   "source": [
    "random.shuffle(names)  # 将序列的所有元素随机排序。"
   ]
  },
  {
   "cell_type": "code",
   "execution_count": 7,
   "metadata": {
    "collapsed": true
   },
   "outputs": [],
   "source": [
    "# 获取训练集和测试集\n",
    "featuresets = [(gender_features(n),g) for (n,g) in names]\n",
    "train_set, test_set = featuresets[500:],featuresets[:500]"
   ]
  },
  {
   "cell_type": "code",
   "execution_count": 8,
   "metadata": {
    "collapsed": true
   },
   "outputs": [],
   "source": [
    "# 训练\n",
    "classifer = nltk.NaiveBayesClassifier.train(train_set)"
   ]
  },
  {
   "cell_type": "code",
   "execution_count": 9,
   "metadata": {},
   "outputs": [
    {
     "data": {
      "text/plain": [
       "'male'"
      ]
     },
     "execution_count": 9,
     "metadata": {},
     "output_type": "execute_result"
    }
   ],
   "source": [
    "# 测试\n",
    "classifer.classify(gender_features('Neo'))"
   ]
  },
  {
   "cell_type": "code",
   "execution_count": 10,
   "metadata": {},
   "outputs": [
    {
     "data": {
      "text/plain": [
       "'female'"
      ]
     },
     "execution_count": 10,
     "metadata": {},
     "output_type": "execute_result"
    }
   ],
   "source": [
    "classifer.classify(gender_features('Trinity'))"
   ]
  },
  {
   "cell_type": "code",
   "execution_count": 11,
   "metadata": {},
   "outputs": [
    {
     "name": "stdout",
     "output_type": "stream",
     "text": [
      "0.776\n"
     ]
    }
   ],
   "source": [
    "# 在测试集上验证数据的准确度\n",
    "print(nltk.classify.accuracy(classifer, test_set))"
   ]
  },
  {
   "cell_type": "code",
   "execution_count": 12,
   "metadata": {
    "scrolled": true
   },
   "outputs": [
    {
     "name": "stdout",
     "output_type": "stream",
     "text": [
      "Most Informative Features\n",
      "             last_letter = 'a'            female : male   =     33.0 : 1.0\n",
      "             last_letter = 'k'              male : female =     31.8 : 1.0\n",
      "             last_letter = 'f'              male : female =     17.3 : 1.0\n",
      "             last_letter = 'p'              male : female =     11.2 : 1.0\n",
      "             last_letter = 'v'              male : female =     10.5 : 1.0\n"
     ]
    }
   ],
   "source": [
    "# 显示前5的 最大似然比，确定哪些特征对于区分名字的性别是最有效的。\n",
    "classifer.show_most_informative_features(5)"
   ]
  },
  {
   "cell_type": "code",
   "execution_count": 13,
   "metadata": {
    "collapsed": true
   },
   "outputs": [],
   "source": [
    "# ===============================结束===================="
   ]
  },
  {
   "cell_type": "code",
   "execution_count": 14,
   "metadata": {
    "collapsed": true
   },
   "outputs": [],
   "source": [
    "# 改进：\n",
    "# 防止语料的链表过大，导致内存不足，通过nltk.classify.apply_features返回类似生成器的对象。\n",
    "from nltk.classify import apply_features\n",
    "# apply_features()的两个参数分别为特征提取函数，和数据集\n",
    "train_set = apply_features(gender_features, names[500:])\n",
    "test_set = apply_features(gender_features, names[:500])"
   ]
  },
  {
   "cell_type": "code",
   "execution_count": 15,
   "metadata": {
    "collapsed": true
   },
   "outputs": [],
   "source": [
    "# 特征选取，特征编码"
   ]
  },
  {
   "cell_type": "code",
   "execution_count": 16,
   "metadata": {
    "collapsed": true
   },
   "outputs": [],
   "source": [
    "# 例子：一个特征提取器，过拟合性别特征。\n",
    "# 这个特征提取器返回的特征集包括大量的指定的特征，从而导致对于相对较小的名字语料库过拟合。\n",
    "def gender_features2(name):\n",
    "    features = {}\n",
    "    features['firstletter'] = name[0].lower()\n",
    "    features['lastletter'] = name[-1].lower()\n",
    "    for letter in 'abcdefghijklmnopqrstuvwxyz':\n",
    "        features['count(%s)'%letter] = name.lower().count(letter)\n",
    "        features['has(%s)'%letter] = (letter in name.lower())\n",
    "    return features"
   ]
  },
  {
   "cell_type": "code",
   "execution_count": 17,
   "metadata": {},
   "outputs": [
    {
     "data": {
      "text/plain": [
       "{'count(a)': 0,\n",
       " 'count(b)': 0,\n",
       " 'count(c)': 0,\n",
       " 'count(d)': 0,\n",
       " 'count(e)': 0,\n",
       " 'count(f)': 0,\n",
       " 'count(g)': 0,\n",
       " 'count(h)': 1,\n",
       " 'count(i)': 0,\n",
       " 'count(j)': 1,\n",
       " 'count(k)': 0,\n",
       " 'count(l)': 0,\n",
       " 'count(m)': 0,\n",
       " 'count(n)': 1,\n",
       " 'count(o)': 1,\n",
       " 'count(p)': 0,\n",
       " 'count(q)': 0,\n",
       " 'count(r)': 0,\n",
       " 'count(s)': 0,\n",
       " 'count(t)': 0,\n",
       " 'count(u)': 0,\n",
       " 'count(v)': 0,\n",
       " 'count(w)': 0,\n",
       " 'count(x)': 0,\n",
       " 'count(y)': 0,\n",
       " 'count(z)': 0,\n",
       " 'firstletter': 'j',\n",
       " 'has(a)': False,\n",
       " 'has(b)': False,\n",
       " 'has(c)': False,\n",
       " 'has(d)': False,\n",
       " 'has(e)': False,\n",
       " 'has(f)': False,\n",
       " 'has(g)': False,\n",
       " 'has(h)': True,\n",
       " 'has(i)': False,\n",
       " 'has(j)': True,\n",
       " 'has(k)': False,\n",
       " 'has(l)': False,\n",
       " 'has(m)': False,\n",
       " 'has(n)': True,\n",
       " 'has(o)': True,\n",
       " 'has(p)': False,\n",
       " 'has(q)': False,\n",
       " 'has(r)': False,\n",
       " 'has(s)': False,\n",
       " 'has(t)': False,\n",
       " 'has(u)': False,\n",
       " 'has(v)': False,\n",
       " 'has(w)': False,\n",
       " 'has(x)': False,\n",
       " 'has(y)': False,\n",
       " 'has(z)': False,\n",
       " 'lastletter': 'n'}"
      ]
     },
     "execution_count": 17,
     "metadata": {},
     "output_type": "execute_result"
    }
   ],
   "source": [
    "# 验证特征提取器结果\n",
    "gender_features2('John')"
   ]
  },
  {
   "cell_type": "code",
   "execution_count": 18,
   "metadata": {
    "collapsed": true
   },
   "outputs": [],
   "source": [
    "# 给定的学习算法的特征的数目是有限的--如果你提供太多的特征，那么该算法将高度依赖你的训练数据的特征，在一般化的例子的性能效果不会太好。\n",
    "# 产生 过拟合 的问题。\n",
    "\n",
    "# 使用gender_feature2(name)的特征提取器的结果作为input X，将会过拟合这个相对较小的训练集，\n",
    "# 造成这个系统的精度比只考虑每个名字的最后一个字母的分类器的精度低约1%\n"
   ]
  },
  {
   "cell_type": "code",
   "execution_count": 19,
   "metadata": {},
   "outputs": [
    {
     "name": "stdout",
     "output_type": "stream",
     "text": [
      "0.784\n"
     ]
    }
   ],
   "source": [
    "featuresets = [(gender_features2(n),g) for (n,g) in names]\n",
    "train_set, test_set = featuresets[500:], featuresets[:500]\n",
    "classifier2 = nltk.NaiveBayesClassifier.train(train_set)\n",
    "print(nltk.classify.accuracy(classifier2, test_set))"
   ]
  },
  {
   "cell_type": "code",
   "execution_count": 20,
   "metadata": {
    "collapsed": true
   },
   "outputs": [],
   "source": [
    "# 结果还是0.78,说明此处的 朴素贝叶斯分类器的特征过程的设置比书中的例子发生了变化"
   ]
  },
  {
   "cell_type": "code",
   "execution_count": 21,
   "metadata": {
    "collapsed": true
   },
   "outputs": [],
   "source": [
    "# 错误分析 -- 完善特征集的一个非常有成效的方法。"
   ]
  },
  {
   "cell_type": "code",
   "execution_count": 22,
   "metadata": {
    "collapsed": true
   },
   "outputs": [],
   "source": [
    "train_names = names[1500:]  # 训练集：训练模型\n",
    "devtest_names = names[500:1500]  # 验证集：进行错误分析\n",
    "test_names = names[:500]  # 测试集：系统的最终评估"
   ]
  },
  {
   "cell_type": "code",
   "execution_count": 23,
   "metadata": {},
   "outputs": [
    {
     "name": "stdout",
     "output_type": "stream",
     "text": [
      "0.748\n"
     ]
    }
   ],
   "source": [
    "train_set = [(gender_features(n),g) for (n,g) in train_names]\n",
    "devtest_set = [(gender_features(n),g) for (n,g) in devtest_names]\n",
    "test_set = [(gender_features(n),g) for (n,g) in test_names]\n",
    "classifier = nltk.NaiveBayesClassifier.train(train_set)\n",
    "print(nltk.classify.accuracy(classifier, devtest_set))"
   ]
  },
  {
   "cell_type": "code",
   "execution_count": 24,
   "metadata": {
    "collapsed": true
   },
   "outputs": [],
   "source": [
    "errors = []\n",
    "for (name,tag) in devtest_names:\n",
    "    guess = classifier.classify(gender_features(name))\n",
    "    if guess != tag:\n",
    "        errors.append((tag,guess,name))"
   ]
  },
  {
   "cell_type": "code",
   "execution_count": 25,
   "metadata": {},
   "outputs": [
    {
     "name": "stdout",
     "output_type": "stream",
     "text": [
      "correct = female guess = male name =Ag\n",
      "correct = female guess = male name =Allis\n",
      "correct = female guess = male name =Arden\n",
      "correct = female guess = male name =Ardys\n",
      "correct = female guess = male name =Astrid\n",
      "correct = female guess = male name =Berget\n",
      "correct = female guess = male name =Bess\n",
      "correct = female guess = male name =Bren\n",
      "correct = female guess = male name =Brooks\n",
      "correct = female guess = male name =Carmon\n",
      "correct = female guess = male name =Carolin\n",
      "correct = female guess = male name =Caron\n",
      "correct = female guess = male name =Cathrin\n",
      "correct = female guess = male name =Celestyn\n",
      "correct = female guess = male name =Charlott\n",
      "correct = female guess = male name =Charmion\n",
      "correct = female guess = male name =Cherilyn\n",
      "correct = female guess = male name =Chloris\n",
      "correct = female guess = male name =Christan\n",
      "correct = female guess = male name =Clair\n",
      "correct = female guess = male name =Clio\n",
      "correct = female guess = male name =Cristin\n",
      "correct = female guess = male name =Danit\n",
      "correct = female guess = male name =Darb\n",
      "correct = female guess = male name =Darleen\n",
      "correct = female guess = male name =Denys\n",
      "correct = female guess = male name =Dionis\n",
      "correct = female guess = male name =Dolores\n",
      "correct = female guess = male name =Doralin\n",
      "correct = female guess = male name =Doralyn\n",
      "correct = female guess = male name =Doralynn\n",
      "correct = female guess = male name =Dorit\n",
      "correct = female guess = male name =Ealasaid\n",
      "correct = female guess = male name =Elisabet\n",
      "correct = female guess = male name =Ellynn\n",
      "correct = female guess = male name =Emlynn\n",
      "correct = female guess = male name =Eran\n",
      "correct = female guess = male name =Esther\n",
      "correct = female guess = male name =Faun\n",
      "correct = female guess = male name =Fiann\n",
      "correct = female guess = male name =Fleur\n",
      "correct = female guess = male name =Gen\n",
      "correct = female guess = male name =Gertrudis\n",
      "correct = female guess = male name =Gillan\n",
      "correct = female guess = male name =Gillian\n",
      "correct = female guess = male name =Gilligan\n",
      "correct = female guess = male name =Gladys\n",
      "correct = female guess = male name =Grier\n",
      "correct = female guess = male name =Jackquelin\n",
      "correct = female guess = male name =Jaclin\n",
      "correct = female guess = male name =Jaquelin\n",
      "correct = female guess = male name =Jerrilyn\n",
      "correct = female guess = male name =Joannes\n",
      "correct = female guess = male name =Jojo\n",
      "correct = female guess = male name =Joleen\n",
      "correct = female guess = male name =Jonis\n",
      "correct = female guess = male name =Jordan\n",
      "correct = female guess = male name =Joslyn\n",
      "correct = female guess = male name =Karmen\n",
      "correct = female guess = male name =Karylin\n",
      "correct = female guess = male name =Kass\n",
      "correct = female guess = male name =Leanor\n",
      "correct = female guess = male name =Leeann\n",
      "correct = female guess = male name =Lilias\n",
      "correct = female guess = male name =Linet\n",
      "correct = female guess = male name =Lorrin\n",
      "correct = female guess = male name =Madlin\n",
      "correct = female guess = male name =Mag\n",
      "correct = female guess = male name =Mairead\n",
      "correct = female guess = male name =Marilin\n",
      "correct = female guess = male name =Marion\n",
      "correct = female guess = male name =Melicent\n",
      "correct = female guess = male name =Mignon\n",
      "correct = female guess = male name =Millicent\n",
      "correct = female guess = male name =Morgan\n",
      "correct = female guess = male name =Ninon\n",
      "correct = female guess = male name =Ruthann\n",
      "correct = female guess = male name =Sallyann\n",
      "correct = female guess = male name =Sean\n",
      "correct = female guess = male name =Shannen\n",
      "correct = female guess = male name =Shirleen\n",
      "correct = female guess = male name =Sileas\n",
      "correct = female guess = male name =Star\n",
      "correct = female guess = male name =Storm\n",
      "correct = female guess = male name =Terri-Jo\n",
      "correct = female guess = male name =Van\n",
      "correct = female guess = male name =Venus\n",
      "correct = female guess = male name =Viviyan\n",
      "correct = female guess = male name =Wallis\n",
      "correct = female guess = male name =Winnifred\n",
      "correct = female guess = male name =Wynn\n",
      "correct = male guess = female name =Aguste\n",
      "correct = male guess = female name =Ajai\n",
      "correct = male guess = female name =Al\n",
      "correct = male guess = female name =Alexei\n",
      "correct = male guess = female name =Alfie\n",
      "correct = male guess = female name =Anatol\n",
      "correct = male guess = female name =Andrey\n",
      "correct = male guess = female name =Andri\n",
      "correct = male guess = female name =Ansell\n",
      "correct = male guess = female name =Antony\n",
      "correct = male guess = female name =Arne\n",
      "correct = male guess = female name =Ash\n",
      "correct = male guess = female name =Ashish\n",
      "correct = male guess = female name =Augustine\n",
      "correct = male guess = female name =Barnabe\n",
      "correct = male guess = female name =Basil\n",
      "correct = male guess = female name =Beale\n",
      "correct = male guess = female name =Bentley\n",
      "correct = male guess = female name =Berkley\n",
      "correct = male guess = female name =Billie\n",
      "correct = male guess = female name =Binky\n",
      "correct = male guess = female name =Blare\n",
      "correct = male guess = female name =Boyce\n",
      "correct = male guess = female name =Brandy\n",
      "correct = male guess = female name =Brice\n",
      "correct = male guess = female name =Brodie\n",
      "correct = male guess = female name =Caldwell\n",
      "correct = male guess = female name =Carl\n",
      "correct = male guess = female name =Carlyle\n",
      "correct = male guess = female name =Caryl\n",
      "correct = male guess = female name =Chane\n",
      "correct = male guess = female name =Chaunce\n",
      "correct = male guess = female name =Che\n",
      "correct = male guess = female name =Christoph\n",
      "correct = male guess = female name =Christophe\n",
      "correct = male guess = female name =Claire\n",
      "correct = male guess = female name =Dana\n",
      "correct = male guess = female name =Davidde\n",
      "correct = male guess = female name =Demetri\n",
      "correct = male guess = female name =Derrol\n",
      "correct = male guess = female name =Dimitry\n",
      "correct = male guess = female name =Dmitri\n",
      "correct = male guess = female name =Duffie\n",
      "correct = male guess = female name =Dwaine\n",
      "correct = male guess = female name =Earle\n",
      "correct = male guess = female name =Eddy\n",
      "correct = male guess = female name =Edie\n",
      "correct = male guess = female name =Edsel\n",
      "correct = male guess = female name =Elijah\n",
      "correct = male guess = female name =Emanuel\n",
      "correct = male guess = female name =Erich\n",
      "correct = male guess = female name =Eugene\n",
      "correct = male guess = female name =Ezechiel\n",
      "correct = male guess = female name =Freddy\n",
      "correct = male guess = female name =French\n",
      "correct = male guess = female name =Gabe\n",
      "correct = male guess = female name =Gabriele\n",
      "correct = male guess = female name =Gabriell\n",
      "correct = male guess = female name =Gamaliel\n",
      "correct = male guess = female name =Gayle\n",
      "correct = male guess = female name =Giovanne\n",
      "correct = male guess = female name =Godfree\n",
      "correct = male guess = female name =Grady\n",
      "correct = male guess = female name =Graehme\n",
      "correct = male guess = female name =Gustave\n",
      "correct = male guess = female name =Hall\n",
      "correct = male guess = female name =Harwell\n",
      "correct = male guess = female name =Haskell\n",
      "correct = male guess = female name =Heath\n",
      "correct = male guess = female name =Henry\n",
      "correct = male guess = female name =Herculie\n",
      "correct = male guess = female name =Herschel\n",
      "correct = male guess = female name =Hilary\n",
      "correct = male guess = female name =Hy\n",
      "correct = male guess = female name =Izzy\n",
      "correct = male guess = female name =Jake\n",
      "correct = male guess = female name =Jamey\n",
      "correct = male guess = female name =Jay\n",
      "correct = male guess = female name =Jedediah\n",
      "correct = male guess = female name =Jeremie\n",
      "correct = male guess = female name =Joel\n",
      "correct = male guess = female name =Joseph\n",
      "correct = male guess = female name =Kalle\n",
      "correct = male guess = female name =Keith\n",
      "correct = male guess = female name =Kendal\n",
      "correct = male guess = female name =Levy\n",
      "correct = male guess = female name =Locke\n",
      "correct = male guess = female name =Mackenzie\n",
      "correct = male guess = female name =Marchall\n",
      "correct = male guess = female name =Marsh\n",
      "correct = male guess = female name =Max\n",
      "correct = male guess = female name =Merell\n",
      "correct = male guess = female name =Michel\n",
      "correct = male guess = female name =Mitchael\n",
      "correct = male guess = female name =Montgomery\n",
      "correct = male guess = female name =Mordecai\n",
      "correct = male guess = female name =Morrie\n",
      "correct = male guess = female name =Murdoch\n",
      "correct = male guess = female name =Murray\n",
      "correct = male guess = female name =Nate\n",
      "correct = male guess = female name =Nathaniel\n",
      "correct = male guess = female name =Nikita\n",
      "correct = male guess = female name =Nikolai\n",
      "correct = male guess = female name =Osbourne\n",
      "correct = male guess = female name =Ozzy\n",
      "correct = male guess = female name =Parke\n",
      "correct = male guess = female name =Parrnell\n",
      "correct = male guess = female name =Phil\n",
      "correct = male guess = female name =Phillipe\n",
      "correct = male guess = female name =Prince\n",
      "correct = male guess = female name =Radcliffe\n",
      "correct = male guess = female name =Raleigh\n",
      "correct = male guess = female name =Randall\n",
      "correct = male guess = female name =Raul\n",
      "correct = male guess = female name =Richy\n",
      "correct = male guess = female name =Rickey\n",
      "correct = male guess = female name =Ricky\n",
      "correct = male guess = female name =Ritchie\n",
      "correct = male guess = female name =Roarke\n",
      "correct = male guess = female name =Roddie\n",
      "correct = male guess = female name =Ronnie\n",
      "correct = male guess = female name =Ruby\n",
      "correct = male guess = female name =Sal\n",
      "correct = male guess = female name =Sawyere\n",
      "correct = male guess = female name =Shane\n",
      "correct = male guess = female name =Shayne\n",
      "correct = male guess = female name =Shell\n",
      "correct = male guess = female name =Sibyl\n",
      "correct = male guess = female name =Sidnee\n",
      "correct = male guess = female name =Simone\n",
      "correct = male guess = female name =Sky\n",
      "correct = male guess = female name =Sly\n",
      "correct = male guess = female name =Sollie\n",
      "correct = male guess = female name =Sonnie\n",
      "correct = male guess = female name =Spense\n",
      "correct = male guess = female name =Stacy\n",
      "correct = male guess = female name =Tabbie\n",
      "correct = male guess = female name =Tammie\n",
      "correct = male guess = female name =Tanny\n",
      "correct = male guess = female name =Tarrance\n",
      "correct = male guess = female name =Teddie\n",
      "correct = male guess = female name =Thane\n",
      "correct = male guess = female name =Timmy\n",
      "correct = male guess = female name =Tobe\n",
      "correct = male guess = female name =Tonnie\n",
      "correct = male guess = female name =Tracey\n",
      "correct = male guess = female name =Tracie\n",
      "correct = male guess = female name =Trey\n",
      "correct = male guess = female name =Tulley\n",
      "correct = male guess = female name =Vail\n",
      "correct = male guess = female name =Vite\n",
      "correct = male guess = female name =Wadsworth\n",
      "correct = male guess = female name =Wash\n",
      "correct = male guess = female name =Welsh\n",
      "correct = male guess = female name =Wiley\n",
      "correct = male guess = female name =Wolfie\n",
      "correct = male guess = female name =Yancey\n",
      "correct = male guess = female name =Zach\n",
      "correct = male guess = female name =Zacharia\n",
      "correct = male guess = female name =Zacharie\n",
      "correct = male guess = female name =Zebadiah\n"
     ]
    }
   ],
   "source": [
    "for (tag,guess,name) in sorted(errors):\n",
    "    # 打印错误列表\n",
    "    print('correct = {} guess = {} name ={}'.format(tag,guess,name))"
   ]
  },
  {
   "cell_type": "code",
   "execution_count": 26,
   "metadata": {
    "collapsed": true
   },
   "outputs": [],
   "source": [
    "# 查看上述的错误列表，发现yn结尾的名字显示以女性为主，尽管事实上，n结尾的名字往往是男性；\n",
    "# 以ch结尾的名字通常是男性，尽管以h结尾的名字倾向于是女性。\n",
    "# 所以调整我们的特征提取器包括两个字母后缀的特征。"
   ]
  },
  {
   "cell_type": "code",
   "execution_count": 27,
   "metadata": {
    "collapsed": true
   },
   "outputs": [],
   "source": [
    "def gender_features(word):\n",
    "    '''提取最后一个后缀，和最后两个后缀作为特征的特征提取器'''\n",
    "    return {'suffix1':word[-1:],'suffix2':word[-2:]}"
   ]
  },
  {
   "cell_type": "code",
   "execution_count": 28,
   "metadata": {},
   "outputs": [
    {
     "name": "stdout",
     "output_type": "stream",
     "text": [
      "0.77\n"
     ]
    }
   ],
   "source": [
    "train_set = [(gender_features(n),g) for (n,g) in train_names]\n",
    "devtest_set = [(gender_features(n),g) for (n,g) in devtest_names]\n",
    "classifier = nltk.NaiveBayesClassifier.train(train_set)\n",
    "print(nltk.classify.accuracy(classifier, devtest_set))  # 从0.759提升到0.771"
   ]
  },
  {
   "cell_type": "code",
   "execution_count": null,
   "metadata": {
    "collapsed": true
   },
   "outputs": [],
   "source": []
  },
  {
   "cell_type": "code",
   "execution_count": null,
   "metadata": {
    "collapsed": true
   },
   "outputs": [],
   "source": []
  }
 ],
 "metadata": {
  "kernelspec": {
   "display_name": "Python 3",
   "language": "python",
   "name": "python3"
  },
  "language_info": {
   "codemirror_mode": {
    "name": "ipython",
    "version": 3
   },
   "file_extension": ".py",
   "mimetype": "text/x-python",
   "name": "python",
   "nbconvert_exporter": "python",
   "pygments_lexer": "ipython3",
   "version": "3.6.2"
  }
 },
 "nbformat": 4,
 "nbformat_minor": 2
}
