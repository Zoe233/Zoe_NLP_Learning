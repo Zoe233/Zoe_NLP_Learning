{
 "cells": [
  {
   "cell_type": "code",
   "execution_count": 1,
   "metadata": {
    "collapsed": true
   },
   "outputs": [],
   "source": [
    "# 一个简单的全文检索系统"
   ]
  },
  {
   "cell_type": "code",
   "execution_count": 2,
   "metadata": {
    "collapsed": true
   },
   "outputs": [],
   "source": [
    "import re\n",
    "import nltk\n",
    "from nltk.corpus import movie_reviews"
   ]
  },
  {
   "cell_type": "code",
   "execution_count": 3,
   "metadata": {
    "collapsed": true
   },
   "outputs": [],
   "source": [
    "def raw(file):\n",
    "    '''\n",
    "    文件读取并加载到contents\n",
    "    '''\n",
    "    contents = file.open().read()  # zipPointer的读取方法\n",
    "    contents = contents.decode()\n",
    "    contents = re.sub(r'<.*?>', ' ', contents)\n",
    "    contents = re.sub('\\s+', ' ', contents)\n",
    "    return contents"
   ]
  },
  {
   "cell_type": "code",
   "execution_count": 4,
   "metadata": {
    "collapsed": true
   },
   "outputs": [],
   "source": [
    "def snippet(doc, term):\n",
    "    '''\n",
    "    小片值\n",
    "    '''\n",
    "    text = ' '*30 + raw(doc) +' '*30\n",
    "    pos = text.index(term)\n",
    "    return text[pos-30:pos+30]"
   ]
  },
  {
   "cell_type": "code",
   "execution_count": 5,
   "metadata": {},
   "outputs": [
    {
     "name": "stdout",
     "output_type": "stream",
     "text": [
      "Building Index...\n"
     ]
    }
   ],
   "source": [
    "print('Building Index...')"
   ]
  },
  {
   "cell_type": "code",
   "execution_count": 6,
   "metadata": {
    "collapsed": true
   },
   "outputs": [],
   "source": [
    "files = movie_reviews.abspaths()"
   ]
  },
  {
   "cell_type": "code",
   "execution_count": 7,
   "metadata": {},
   "outputs": [],
   "source": [
    "idx = nltk.Index((w,f) for f in files for w in raw(f).split())"
   ]
  },
  {
   "cell_type": "code",
   "execution_count": 11,
   "metadata": {},
   "outputs": [
    {
     "name": "stdout",
     "output_type": "stream",
     "text": [
      "query >kitty\n",
      "control . making a new friend kitty ( rose mcgowan ) he lear\n",
      "control . making a new friend kitty ( rose mcgowan ) he lear\n",
      "e , stylish soft porn . salon kitty , his 1976 film , is ver\n",
      "e , stylish soft porn . salon kitty , his 1976 film , is ver\n",
      "e , stylish soft porn . salon kitty , his 1976 film , is ver\n",
      "e , stylish soft porn . salon kitty , his 1976 film , is ver\n",
      "e , stylish soft porn . salon kitty , his 1976 film , is ver\n",
      "e , stylish soft porn . salon kitty , his 1976 film , is ver\n",
      "elf attracted to a girl named kitty ( chingmy yau ) , who , \n",
      "elf attracted to a girl named kitty ( chingmy yau ) , who , \n",
      "elf attracted to a girl named kitty ( chingmy yau ) , who , \n",
      "elf attracted to a girl named kitty ( chingmy yau ) , who , \n",
      "to a sympathetic lover called kitty ( norristown's own maria\n",
      "as , and their nanny sharon ( kitty winn ) have to sit and w\n",
      "query >quit\n"
     ]
    }
   ],
   "source": [
    "query = ''\n",
    "flag = True\n",
    "while flag:\n",
    "    query = input('query >')\n",
    "    if query =='quit':\n",
    "        flag = False\n",
    "    else:\n",
    "        if query in idx:\n",
    "            for doc in idx[query]:\n",
    "                print(snippet(doc, query))\n",
    "        else:\n",
    "            print('Not Found')"
   ]
  },
  {
   "cell_type": "code",
   "execution_count": 12,
   "metadata": {
    "collapsed": true
   },
   "outputs": [],
   "source": [
    "# ===============结束==============="
   ]
  },
  {
   "cell_type": "code",
   "execution_count": 13,
   "metadata": {},
   "outputs": [],
   "source": [
    "# 一个更微妙的空间与时间折中的例子设计使用整数标识符替换一个语料库的标识符。\n",
    "# 我们为语料库创建一个词汇表，每个词都被存储一次链表，\n",
    "# 然后转化为这个链表以便我们能够通过查找任意词来找到它的标识符。\n",
    "# 每个文档都进行预处理，使一个词链表变成一个整数链表。"
   ]
  },
  {
   "cell_type": "code",
   "execution_count": 14,
   "metadata": {
    "collapsed": true
   },
   "outputs": [],
   "source": [
    "# 预处理已标注的语料库数据，将所有的词和标注转换为整数\n",
    "def preprocess(tagged_corpus):\n",
    "    words = set()\n",
    "    tags = set()\n",
    "    for sent in tagged_corpus:\n",
    "        for word,tag in sent:\n",
    "            words.add(word)\n",
    "            tags.add(tag)\n",
    "    wm = dict((w,i) for (i,w) in enumerate(words))\n",
    "    tm = dict((t,i) for (i,t) in enumerate(tags))\n",
    "    return [[(wm[w],tm[t]) for (w,t) in sent] for sent in tagged_corpus]\n",
    "        "
   ]
  },
  {
   "cell_type": "code",
   "execution_count": 15,
   "metadata": {
    "collapsed": true
   },
   "outputs": [],
   "source": [
    "# 空间时间权衡的另一个例子是维护一个词汇表。\n",
    "# 如果你需要处理一段输入文本检查所有的词是否在现有的词汇表中，\n",
    "# 词汇表应存储为一个集合，而不是一个链表。\n",
    "# 集合中的元素会自动索引，所以测试一个大的集合的成员将远远快于测试相应的链表的成员"
   ]
  },
  {
   "cell_type": "code",
   "execution_count": null,
   "metadata": {
    "collapsed": true
   },
   "outputs": [],
   "source": []
  }
 ],
 "metadata": {
  "kernelspec": {
   "display_name": "Python 3",
   "language": "python",
   "name": "python3"
  },
  "language_info": {
   "codemirror_mode": {
    "name": "ipython",
    "version": 3
   },
   "file_extension": ".py",
   "mimetype": "text/x-python",
   "name": "python",
   "nbconvert_exporter": "python",
   "pygments_lexer": "ipython3",
   "version": "3.6.2"
  }
 },
 "nbformat": 4,
 "nbformat_minor": 2
}
