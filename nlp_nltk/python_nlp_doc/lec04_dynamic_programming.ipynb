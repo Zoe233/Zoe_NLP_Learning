{
 "cells": [
  {
   "cell_type": "code",
   "execution_count": 1,
   "metadata": {
    "collapsed": true
   },
   "outputs": [],
   "source": [
    "# 四种方法计算梵文旋律：\n",
    "#    1.迭代 2.自底向上的动态规划 3.自上而下的动态规划 4.内置默记法。"
   ]
  },
  {
   "cell_type": "code",
   "execution_count": 5,
   "metadata": {},
   "outputs": [],
   "source": [
    "def virahanka1(n):\n",
    "    '''\n",
    "    自底向上的动态规划\n",
    "    '''\n",
    "    if n == 0:\n",
    "        return ['']\n",
    "    elif n == 1:\n",
    "        return ['S']\n",
    "    else:\n",
    "        s = ['S'+prosody for prosody in virahanka1(n-1)]\n",
    "        l = ['L'+prosody for prosody in virahanka1(n-2)]\n",
    "        return s+l\n",
    "    "
   ]
  },
  {
   "cell_type": "code",
   "execution_count": 9,
   "metadata": {},
   "outputs": [
    {
     "data": {
      "text/plain": [
       "['SSSS', 'SSL', 'SLS', 'LSS', 'LL']"
      ]
     },
     "execution_count": 9,
     "metadata": {},
     "output_type": "execute_result"
    }
   ],
   "source": [
    "virahanka1(4)"
   ]
  },
  {
   "cell_type": "code",
   "execution_count": 10,
   "metadata": {
    "collapsed": true
   },
   "outputs": [],
   "source": [
    "def virahanka2(n):\n",
    "    '''\n",
    "    实现动态规划方法.\n",
    "    解决较大问题前先解决较小的问题.\n",
    "    被称为自下而上的方法进行动态规划\n",
    "    '''\n",
    "    lookup = [[''],['S']]\n",
    "    for i in range(n-1):\n",
    "        s = ['S'+prosody for prosody in lookup[i+1]]\n",
    "        l = ['L'+prosody for prosody in lookup[i]]\n",
    "        lookup.append(s+l)\n",
    "    return lookup[n]"
   ]
  },
  {
   "cell_type": "code",
   "execution_count": 11,
   "metadata": {},
   "outputs": [
    {
     "data": {
      "text/plain": [
       "['SSSS', 'SSL', 'SLS', 'LSS', 'LL']"
      ]
     },
     "execution_count": 11,
     "metadata": {},
     "output_type": "execute_result"
    }
   ],
   "source": [
    "virahanka2(4)"
   ]
  },
  {
   "cell_type": "code",
   "execution_count": 14,
   "metadata": {
    "collapsed": true
   },
   "outputs": [],
   "source": [
    "def virahanka3(n,lookup={0:[''],1:['S']}):\n",
    "    '''\n",
    "    自上而下的方法进行动态规划可避免这种计算的浪费\n",
    "    '''\n",
    "    if n not in lookup:\n",
    "        s = ['S'+prosody for prosody in virahanka3(n-1)]\n",
    "        l = ['L'+prosody for prosody in virahanka3(n-2)]\n",
    "        lookup[n] = s+l\n",
    "    return lookup[n]"
   ]
  },
  {
   "cell_type": "code",
   "execution_count": 18,
   "metadata": {},
   "outputs": [
    {
     "data": {
      "text/plain": [
       "['SSSS', 'SSL', 'SLS', 'LSS', 'LL']"
      ]
     },
     "execution_count": 18,
     "metadata": {},
     "output_type": "execute_result"
    }
   ],
   "source": [
    "virahanka3(4)"
   ]
  },
  {
   "cell_type": "code",
   "execution_count": 19,
   "metadata": {
    "collapsed": true
   },
   "outputs": [],
   "source": [
    "from nltk import memoize\n",
    "@memoize\n",
    "def virahanka4(n):\n",
    "    if n==0:\n",
    "        return ['']\n",
    "    elif n==1:\n",
    "        return ['S']\n",
    "    else:\n",
    "        s=['S'+prosody for prosody in virahanka4(n-1)]\n",
    "        l=['L'+prosody for prosody in virahanka4(n-2)]\n",
    "        return s+l"
   ]
  },
  {
   "cell_type": "code",
   "execution_count": 20,
   "metadata": {},
   "outputs": [
    {
     "data": {
      "text/plain": [
       "['SSSS', 'SSL', 'SLS', 'LSS', 'LL']"
      ]
     },
     "execution_count": 20,
     "metadata": {},
     "output_type": "execute_result"
    }
   ],
   "source": [
    "virahanka4(4)"
   ]
  },
  {
   "cell_type": "code",
   "execution_count": null,
   "metadata": {
    "collapsed": true
   },
   "outputs": [],
   "source": []
  }
 ],
 "metadata": {
  "kernelspec": {
   "display_name": "Python 3",
   "language": "python",
   "name": "python3"
  },
  "language_info": {
   "codemirror_mode": {
    "name": "ipython",
    "version": 3
   },
   "file_extension": ".py",
   "mimetype": "text/x-python",
   "name": "python",
   "nbconvert_exporter": "python",
   "pygments_lexer": "ipython3",
   "version": "3.6.2"
  }
 },
 "nbformat": 4,
 "nbformat_minor": 2
}
