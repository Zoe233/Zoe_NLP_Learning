{
 "cells": [
  {
   "cell_type": "code",
   "execution_count": 9,
   "metadata": {
    "collapsed": true
   },
   "outputs": [],
   "source": [
    "# 监督学习：特征提取，语言模型的构建\n",
    "# 决策树，朴素贝叶斯分类器，最大熵分类"
   ]
  },
  {
   "cell_type": "code",
   "execution_count": 10,
   "metadata": {
    "collapsed": true
   },
   "outputs": [],
   "source": [
    "def gender_features(word):\n",
    "    '''\n",
    "    特征提取生成器\n",
    "    '''\n",
    "    return {'last_letter':word[-1]}"
   ]
  },
  {
   "cell_type": "code",
   "execution_count": 11,
   "metadata": {},
   "outputs": [
    {
     "data": {
      "text/plain": [
       "{'last_letter': 'k'}"
      ]
     },
     "execution_count": 11,
     "metadata": {},
     "output_type": "execute_result"
    }
   ],
   "source": [
    "# 验证特征提取生成函数\n",
    "gender_features('Shrek')\n",
    "# 这个函数返回的字典被称为特征集，映射特征名称到它们的值。特征名称是区分大小写的字符串，特征值是简单类型的值，如布尔，数字和字符串。"
   ]
  },
  {
   "cell_type": "code",
   "execution_count": 12,
   "metadata": {
    "collapsed": true
   },
   "outputs": [],
   "source": [
    "from nltk.corpus import names\n",
    "import nltk\n",
    "import random"
   ]
  },
  {
   "cell_type": "code",
   "execution_count": 13,
   "metadata": {
    "collapsed": true
   },
   "outputs": [],
   "source": [
    "names = ([(name,'male') for name in names.words('male.txt')]+\n",
    "        [(name,'female') for name in names.words('female.txt')])"
   ]
  },
  {
   "cell_type": "code",
   "execution_count": 14,
   "metadata": {
    "collapsed": true
   },
   "outputs": [],
   "source": [
    "random.shuffle(names)  # 将序列的所有元素随机排序。"
   ]
  },
  {
   "cell_type": "code",
   "execution_count": 16,
   "metadata": {},
   "outputs": [],
   "source": [
    "# 获取训练集和测试集\n",
    "featuresets = [(gender_features(n),g) for (n,g) in names]\n",
    "train_set, test_set = featuresets[500:],featuresets[:500]"
   ]
  },
  {
   "cell_type": "code",
   "execution_count": 17,
   "metadata": {
    "collapsed": true
   },
   "outputs": [],
   "source": [
    "# 训练\n",
    "classifer = nltk.NaiveBayesClassifier.train(train_set)"
   ]
  },
  {
   "cell_type": "code",
   "execution_count": 18,
   "metadata": {},
   "outputs": [
    {
     "data": {
      "text/plain": [
       "'male'"
      ]
     },
     "execution_count": 18,
     "metadata": {},
     "output_type": "execute_result"
    }
   ],
   "source": [
    "# 测试\n",
    "classifer.classify(gender_features('Neo'))"
   ]
  },
  {
   "cell_type": "code",
   "execution_count": 19,
   "metadata": {},
   "outputs": [
    {
     "data": {
      "text/plain": [
       "'female'"
      ]
     },
     "execution_count": 19,
     "metadata": {},
     "output_type": "execute_result"
    }
   ],
   "source": [
    "classifer.classify(gender_features('Trinity'))"
   ]
  },
  {
   "cell_type": "code",
   "execution_count": 20,
   "metadata": {},
   "outputs": [
    {
     "name": "stdout",
     "output_type": "stream",
     "text": [
      "0.78\n"
     ]
    }
   ],
   "source": [
    "# 在测试集上验证数据的准确度\n",
    "print(nltk.classify.accuracy(classifer, test_set))"
   ]
  },
  {
   "cell_type": "code",
   "execution_count": 22,
   "metadata": {
    "scrolled": true
   },
   "outputs": [
    {
     "name": "stdout",
     "output_type": "stream",
     "text": [
      "Most Informative Features\n",
      "             last_letter = 'a'            female : male   =     35.8 : 1.0\n",
      "             last_letter = 'k'              male : female =     31.5 : 1.0\n",
      "             last_letter = 'f'              male : female =     17.2 : 1.0\n",
      "             last_letter = 'p'              male : female =     11.8 : 1.0\n",
      "             last_letter = 'd'              male : female =     10.3 : 1.0\n"
     ]
    }
   ],
   "source": [
    "# 显示前5的 最大似然比，确定哪些特征对于区分名字的性别是最有效的。\n",
    "classifer.show_most_informative_features(5)"
   ]
  },
  {
   "cell_type": "code",
   "execution_count": 23,
   "metadata": {
    "collapsed": true
   },
   "outputs": [],
   "source": [
    "# ===============================结束===================="
   ]
  },
  {
   "cell_type": "code",
   "execution_count": 24,
   "metadata": {
    "collapsed": true
   },
   "outputs": [],
   "source": [
    "# 改进：\n",
    "# 防止语料的链表过大，导致内存不足，通过nltk.classify.apply_features返回类似生成器的对象。\n",
    "from nltk.classify import apply_features\n",
    "# apply_features()的两个参数分别为特征提取函数，和数据集\n",
    "train_set = apply_features(gender_features, names[500:])\n",
    "test_set = apply_features(gender_features, names[:500])"
   ]
  },
  {
   "cell_type": "code",
   "execution_count": 25,
   "metadata": {
    "collapsed": true
   },
   "outputs": [],
   "source": [
    "# 特征选取，特征编码"
   ]
  },
  {
   "cell_type": "code",
   "execution_count": 26,
   "metadata": {
    "collapsed": true
   },
   "outputs": [],
   "source": [
    "# 例子：一个特征提取器，过拟合性别特征。\n",
    "# 这个特征提取器返回的特征集包括大量的指定的特征，从而导致对于相对较小的名字语料库过拟合。\n",
    "def gender_features2(name):\n",
    "    features = {}\n",
    "    features['firstletter'] = name[0].lower()\n",
    "    features['lastletter'] = name[-1].lower()\n",
    "    for letter in 'abcdefghijklmnopqrstuvwxyz':\n",
    "        features['count(%s)'%letter] = name.lower().count(letter)\n",
    "        features['has(%s)'%letter] = (letter in name.lower())\n",
    "    return features"
   ]
  },
  {
   "cell_type": "code",
   "execution_count": 27,
   "metadata": {},
   "outputs": [
    {
     "data": {
      "text/plain": [
       "{'count(a)': 0,\n",
       " 'count(b)': 0,\n",
       " 'count(c)': 0,\n",
       " 'count(d)': 0,\n",
       " 'count(e)': 0,\n",
       " 'count(f)': 0,\n",
       " 'count(g)': 0,\n",
       " 'count(h)': 1,\n",
       " 'count(i)': 0,\n",
       " 'count(j)': 1,\n",
       " 'count(k)': 0,\n",
       " 'count(l)': 0,\n",
       " 'count(m)': 0,\n",
       " 'count(n)': 1,\n",
       " 'count(o)': 1,\n",
       " 'count(p)': 0,\n",
       " 'count(q)': 0,\n",
       " 'count(r)': 0,\n",
       " 'count(s)': 0,\n",
       " 'count(t)': 0,\n",
       " 'count(u)': 0,\n",
       " 'count(v)': 0,\n",
       " 'count(w)': 0,\n",
       " 'count(x)': 0,\n",
       " 'count(y)': 0,\n",
       " 'count(z)': 0,\n",
       " 'firstletter': 'j',\n",
       " 'has(a)': False,\n",
       " 'has(b)': False,\n",
       " 'has(c)': False,\n",
       " 'has(d)': False,\n",
       " 'has(e)': False,\n",
       " 'has(f)': False,\n",
       " 'has(g)': False,\n",
       " 'has(h)': True,\n",
       " 'has(i)': False,\n",
       " 'has(j)': True,\n",
       " 'has(k)': False,\n",
       " 'has(l)': False,\n",
       " 'has(m)': False,\n",
       " 'has(n)': True,\n",
       " 'has(o)': True,\n",
       " 'has(p)': False,\n",
       " 'has(q)': False,\n",
       " 'has(r)': False,\n",
       " 'has(s)': False,\n",
       " 'has(t)': False,\n",
       " 'has(u)': False,\n",
       " 'has(v)': False,\n",
       " 'has(w)': False,\n",
       " 'has(x)': False,\n",
       " 'has(y)': False,\n",
       " 'has(z)': False,\n",
       " 'lastletter': 'n'}"
      ]
     },
     "execution_count": 27,
     "metadata": {},
     "output_type": "execute_result"
    }
   ],
   "source": [
    "# 验证特征提取器结果\n",
    "gender_features2('John')"
   ]
  },
  {
   "cell_type": "code",
   "execution_count": 28,
   "metadata": {
    "collapsed": true
   },
   "outputs": [],
   "source": [
    "# 给定的学习算法的特征的数目是有限的--如果你提供太多的特征，那么该算法将高度依赖你的训练数据的特征，在一般化的例子的性能效果不会太好。\n",
    "# 产生 过拟合 的问题。\n",
    "\n",
    "# 使用gender_feature2(name)的特征提取器的结果作为input X，将会过拟合这个相对较小的训练集，\n",
    "# 造成这个系统的精度比只考虑每个名字的最后一个字母的分类器的精度低约1%\n"
   ]
  },
  {
   "cell_type": "code",
   "execution_count": 32,
   "metadata": {},
   "outputs": [
    {
     "name": "stdout",
     "output_type": "stream",
     "text": [
      "0.78\n"
     ]
    }
   ],
   "source": [
    "featuresets = [(gender_features2(n),g) for (n,g) in names]\n",
    "train_set, test_set = featuresets[500:], featuresets[:500]\n",
    "classifier2 = nltk.NaiveBayesClassifier.train(train_set)\n",
    "print(nltk.classify.accuracy(classifier2, test_set))"
   ]
  },
  {
   "cell_type": "code",
   "execution_count": 33,
   "metadata": {},
   "outputs": [],
   "source": [
    "# 结果还是0.78,说明此处的 朴素贝叶斯分类器的特征过程的设置比书中的例子发生了变化"
   ]
  },
  {
   "cell_type": "code",
   "execution_count": 36,
   "metadata": {},
   "outputs": [],
   "source": [
    "# 错误分析 -- 完善特征集的一个非常有成效的方法。"
   ]
  },
  {
   "cell_type": "code",
   "execution_count": 37,
   "metadata": {
    "collapsed": true
   },
   "outputs": [],
   "source": [
    "train_names = names[1500:]  # 训练集：训练模型\n",
    "devtest_names = names[500:1500]  # 验证集：进行错误分析\n",
    "test_names = names[:500]  # 测试集：系统的最终评估"
   ]
  },
  {
   "cell_type": "code",
   "execution_count": 39,
   "metadata": {},
   "outputs": [
    {
     "name": "stdout",
     "output_type": "stream",
     "text": [
      "0.759\n"
     ]
    }
   ],
   "source": [
    "train_set = [(gender_features(n),g) for (n,g) in train_names]\n",
    "devtest_set = [(gender_features(n),g) for (n,g) in devtest_names]\n",
    "test_set = [(gender_features(n),g) for (n,g) in test_names]\n",
    "classifier = nltk.NaiveBayesClassifier.train(train_set)\n",
    "print(nltk.classify.accuracy(classifier, devtest_set))"
   ]
  },
  {
   "cell_type": "code",
   "execution_count": 40,
   "metadata": {
    "collapsed": true
   },
   "outputs": [],
   "source": [
    "errors = []\n",
    "for (name,tag) in devtest_names:\n",
    "    guess = classifier.classify(gender_features(name))\n",
    "    if guess != tag:\n",
    "        errors.append((tag,guess,name))"
   ]
  },
  {
   "cell_type": "code",
   "execution_count": 43,
   "metadata": {},
   "outputs": [
    {
     "name": "stdout",
     "output_type": "stream",
     "text": [
      "correct = female guess = male name =Adah\n",
      "correct = female guess = male name =Aeriel\n",
      "correct = female guess = male name =Ag\n",
      "correct = female guess = male name =Alanah\n",
      "correct = female guess = male name =Alys\n",
      "correct = female guess = male name =Amber\n",
      "correct = female guess = male name =Ann\n",
      "correct = female guess = male name =Ardith\n",
      "correct = female guess = male name =Arlyn\n",
      "correct = female guess = male name =Bab\n",
      "correct = female guess = male name =Beau\n",
      "correct = female guess = male name =Beilul\n",
      "correct = female guess = male name =Beitris\n",
      "correct = female guess = male name =Bert\n",
      "correct = female guess = male name =Bess\n",
      "correct = female guess = male name =Beth\n",
      "correct = female guess = male name =Bird\n",
      "correct = female guess = male name =Calypso\n",
      "correct = female guess = male name =Cam\n",
      "correct = female guess = male name =Carlin\n",
      "correct = female guess = male name =Carlyn\n",
      "correct = female guess = male name =Carmon\n",
      "correct = female guess = male name =Cathryn\n",
      "correct = female guess = male name =Catlin\n",
      "correct = female guess = male name =Charmain\n",
      "correct = female guess = male name =Chris\n",
      "correct = female guess = male name =Christabel\n",
      "correct = female guess = male name =Christen\n",
      "correct = female guess = male name =Ciel\n",
      "correct = female guess = male name =Clio\n",
      "correct = female guess = male name =Clo\n",
      "correct = female guess = male name =Con\n",
      "correct = female guess = male name =Coral\n",
      "correct = female guess = male name =Coriss\n",
      "correct = female guess = male name =Cristal\n",
      "correct = female guess = male name =Cristen\n",
      "correct = female guess = male name =Crystal\n",
      "correct = female guess = male name =Deloris\n",
      "correct = female guess = male name =Diann\n",
      "correct = female guess = male name =Doll\n",
      "correct = female guess = male name =Dorian\n",
      "correct = female guess = male name =Dyann\n",
      "correct = female guess = male name =Edyth\n",
      "correct = female guess = male name =Eileen\n",
      "correct = female guess = male name =Eilis\n",
      "correct = female guess = male name =Ester\n",
      "correct = female guess = male name =Farand\n",
      "correct = female guess = male name =Farrah\n",
      "correct = female guess = male name =Fawn\n",
      "correct = female guess = male name =Frances\n",
      "correct = female guess = male name =Fred\n",
      "correct = female guess = male name =Ginger\n",
      "correct = female guess = male name =Glen\n",
      "correct = female guess = male name =Grier\n",
      "correct = female guess = male name =Grissel\n",
      "correct = female guess = male name =Gus\n",
      "correct = female guess = male name =Gwendolin\n",
      "correct = female guess = male name =Gwenneth\n",
      "correct = female guess = male name =Haleigh\n",
      "correct = female guess = male name =Hannibal\n",
      "correct = female guess = male name =Hannis\n",
      "correct = female guess = male name =Idell\n",
      "correct = female guess = male name =Ingeberg\n",
      "correct = female guess = male name =Jacynth\n",
      "correct = female guess = male name =Janel\n",
      "correct = female guess = male name =Jaquith\n",
      "correct = female guess = male name =Jazmin\n",
      "correct = female guess = male name =Jerrilyn\n",
      "correct = female guess = male name =Jewel\n",
      "correct = female guess = male name =Jewell\n",
      "correct = female guess = male name =Josselyn\n",
      "correct = female guess = male name =Jourdan\n",
      "correct = female guess = male name =Judith\n",
      "correct = female guess = male name =Karyn\n",
      "correct = female guess = male name =Katalin\n",
      "correct = female guess = male name =Katleen\n",
      "correct = female guess = male name =Kaylyn\n",
      "correct = female guess = male name =Kial\n",
      "correct = female guess = male name =Kiersten\n",
      "correct = female guess = male name =Kip\n",
      "correct = female guess = male name =Koo\n",
      "correct = female guess = male name =Leland\n",
      "correct = female guess = male name =Lyndel\n",
      "correct = female guess = male name =Malkah\n",
      "correct = female guess = male name =Marget\n",
      "correct = female guess = male name =Margo\n",
      "correct = female guess = male name =Mariam\n",
      "correct = female guess = male name =Mariann\n",
      "correct = female guess = male name =Marijo\n",
      "correct = female guess = male name =Maris\n",
      "correct = female guess = male name =Maryann\n",
      "correct = female guess = male name =Megen\n",
      "correct = female guess = male name =Meredith\n",
      "correct = female guess = male name =Meryl\n",
      "correct = female guess = male name =Mildrid\n",
      "correct = female guess = male name =Milissent\n",
      "correct = female guess = male name =Miran\n",
      "correct = female guess = male name =Morgan\n",
      "correct = female guess = male name =Nichol\n",
      "correct = female guess = male name =Nitin\n",
      "correct = female guess = male name =Noel\n",
      "correct = female guess = male name =Norah\n",
      "correct = female guess = male name =Norean\n",
      "correct = female guess = male name =Pam\n",
      "correct = female guess = male name =Philis\n",
      "correct = female guess = male name =Phyllys\n",
      "correct = female guess = male name =Phylys\n",
      "correct = female guess = male name =Rahal\n",
      "correct = female guess = male name =Rakel\n",
      "correct = female guess = male name =Rayshell\n",
      "correct = female guess = male name =Renel\n",
      "correct = female guess = male name =Roselin\n",
      "correct = female guess = male name =Sallyann\n",
      "correct = female guess = male name =Sheilah\n",
      "correct = female guess = male name =Shell\n",
      "correct = female guess = male name =Susan\n",
      "correct = female guess = male name =Susannah\n",
      "correct = female guess = male name =Suzan\n",
      "correct = female guess = male name =Tarrah\n",
      "correct = female guess = male name =Terri-Jo\n",
      "correct = female guess = male name =Thomasin\n",
      "correct = female guess = male name =Trix\n",
      "correct = female guess = male name =Velvet\n",
      "correct = female guess = male name =Violet\n",
      "correct = female guess = male name =Vivien\n",
      "correct = female guess = male name =Winifred\n",
      "correct = female guess = male name =Winnah\n",
      "correct = male guess = female name =Addie\n",
      "correct = male guess = female name =Adlai\n",
      "correct = male guess = female name =Ajay\n",
      "correct = male guess = female name =Alaa\n",
      "correct = male guess = female name =Ali\n",
      "correct = male guess = female name =Anatoly\n",
      "correct = male guess = female name =Antony\n",
      "correct = male guess = female name =Barney\n",
      "correct = male guess = female name =Barty\n",
      "correct = male guess = female name =Binky\n",
      "correct = male guess = female name =Blare\n",
      "correct = male guess = female name =Bobbie\n",
      "correct = male guess = female name =Bobby\n",
      "correct = male guess = female name =Broddy\n",
      "correct = male guess = female name =Brody\n",
      "correct = male guess = female name =Buddy\n",
      "correct = male guess = female name =Chrissy\n",
      "correct = male guess = female name =Christie\n",
      "correct = male guess = female name =Constantine\n",
      "correct = male guess = female name =Conway\n",
      "correct = male guess = female name =Curtice\n",
      "correct = male guess = female name =Davie\n",
      "correct = male guess = female name =Demetri\n",
      "correct = male guess = female name =Dwaine\n",
      "correct = male guess = female name =Elroy\n",
      "correct = male guess = female name =Filmore\n",
      "correct = male guess = female name =Finley\n",
      "correct = male guess = female name =Fonzie\n",
      "correct = male guess = female name =Frankie\n",
      "correct = male guess = female name =Freddy\n",
      "correct = male guess = female name =Gabe\n",
      "correct = male guess = female name =Garvy\n",
      "correct = male guess = female name =Georgie\n",
      "correct = male guess = female name =Georgy\n",
      "correct = male guess = female name =Godfree\n",
      "correct = male guess = female name =Guthrey\n",
      "correct = male guess = female name =Hercule\n",
      "correct = male guess = female name =Herve\n",
      "correct = male guess = female name =Hewie\n",
      "correct = male guess = female name =Howie\n",
      "correct = male guess = female name =Huntlee\n",
      "correct = male guess = female name =Irvine\n",
      "correct = male guess = female name =Isa\n",
      "correct = male guess = female name =Jeffery\n",
      "correct = male guess = female name =Jermaine\n",
      "correct = male guess = female name =Jerome\n",
      "correct = male guess = female name =Jeromy\n",
      "correct = male guess = female name =Jerzy\n",
      "correct = male guess = female name =Jimmy\n",
      "correct = male guess = female name =Jodi\n",
      "correct = male guess = female name =Jodie\n",
      "correct = male guess = female name =Jody\n",
      "correct = male guess = female name =Joshua\n",
      "correct = male guess = female name =Julie\n",
      "correct = male guess = female name =Kane\n",
      "correct = male guess = female name =Kennedy\n",
      "correct = male guess = female name =Kingsly\n",
      "correct = male guess = female name =Kyle\n",
      "correct = male guess = female name =Lawrence\n",
      "correct = male guess = female name =Levi\n",
      "correct = male guess = female name =Lonnie\n",
      "correct = male guess = female name =Lonny\n",
      "correct = male guess = female name =Luke\n",
      "correct = male guess = female name =Marmaduke\n",
      "correct = male guess = female name =Maurice\n",
      "correct = male guess = female name =Maurise\n",
      "correct = male guess = female name =Mika\n",
      "correct = male guess = female name =Montgomery\n",
      "correct = male guess = female name =Monty\n",
      "correct = male guess = female name =Morley\n",
      "correct = male guess = female name =Morly\n",
      "correct = male guess = female name =Morry\n",
      "correct = male guess = female name =Mustafa\n",
      "correct = male guess = female name =Nickey\n",
      "correct = male guess = female name =Nicky\n",
      "correct = male guess = female name =Osbourne\n",
      "correct = male guess = female name =Patsy\n",
      "correct = male guess = female name =Pepe\n",
      "correct = male guess = female name =Price\n",
      "correct = male guess = female name =Prince\n",
      "correct = male guess = female name =Rene\n",
      "correct = male guess = female name =Richie\n",
      "correct = male guess = female name =Robbie\n",
      "correct = male guess = female name =Rutledge\n",
      "correct = male guess = female name =Selby\n",
      "correct = male guess = female name =Shane\n",
      "correct = male guess = female name =Sheffie\n",
      "correct = male guess = female name =Simone\n",
      "correct = male guess = female name =Sinclare\n",
      "correct = male guess = female name =Skippy\n",
      "correct = male guess = female name =Slade\n",
      "correct = male guess = female name =Spence\n",
      "correct = male guess = female name =Sterne\n",
      "correct = male guess = female name =Stevy\n",
      "correct = male guess = female name =Tabby\n",
      "correct = male guess = female name =Terence\n",
      "correct = male guess = female name =Terrence\n",
      "correct = male guess = female name =Timothy\n",
      "correct = male guess = female name =Tobie\n",
      "correct = male guess = female name =Tore\n",
      "correct = male guess = female name =Torey\n",
      "correct = male guess = female name =Townie\n",
      "correct = male guess = female name =Tracy\n",
      "correct = male guess = female name =Vite\n",
      "correct = male guess = female name =Wally\n",
      "correct = male guess = female name =Warde\n",
      "correct = male guess = female name =Ware\n",
      "correct = male guess = female name =Waverley\n",
      "correct = male guess = female name =Way\n",
      "correct = male guess = female name =Welby\n",
      "correct = male guess = female name =Wye\n",
      "correct = male guess = female name =Zacharia\n",
      "correct = male guess = female name =Zebedee\n",
      "correct = male guess = female name =Zolly\n"
     ]
    }
   ],
   "source": [
    "for (tag,guess,name) in sorted(errors):\n",
    "    # 打印错误列表\n",
    "    print('correct = {} guess = {} name ={}'.format(tag,guess,name))"
   ]
  },
  {
   "cell_type": "code",
   "execution_count": 44,
   "metadata": {
    "collapsed": true
   },
   "outputs": [],
   "source": [
    "# 查看上述的错误列表，发现yn结尾的名字显示以女性为主，尽管事实上，n结尾的名字往往是男性；\n",
    "# 以ch结尾的名字通常是男性，尽管以h结尾的名字倾向于是女性。\n",
    "# 所以调整我们的特征提取器包括两个字母后缀的特征。"
   ]
  },
  {
   "cell_type": "code",
   "execution_count": 45,
   "metadata": {
    "collapsed": true
   },
   "outputs": [],
   "source": [
    "def gender_features(word):\n",
    "    '''提取最后一个后缀，和最后两个后缀作为特征的特征提取器'''\n",
    "    return {'suffix1':word[-1:],'suffix2':word[-2:]}"
   ]
  },
  {
   "cell_type": "code",
   "execution_count": 47,
   "metadata": {},
   "outputs": [
    {
     "name": "stdout",
     "output_type": "stream",
     "text": [
      "0.771\n"
     ]
    }
   ],
   "source": [
    "train_set = [(gender_features(n),g) for (n,g) in train_names]\n",
    "devtest_set = [(gender_features(n),g) for (n,g) in devtest_names]\n",
    "classifier = nltk.NaiveBayesClassifier.train(train_set)\n",
    "print(nltk.classify.accuracy(classifier, devtest_set))  # 从0.759提升到0.771"
   ]
  },
  {
   "cell_type": "code",
   "execution_count": null,
   "metadata": {
    "collapsed": true
   },
   "outputs": [],
   "source": []
  }
 ],
 "metadata": {
  "kernelspec": {
   "display_name": "Python 3",
   "language": "python",
   "name": "python3"
  },
  "language_info": {
   "codemirror_mode": {
    "name": "ipython",
    "version": 3
   },
   "file_extension": ".py",
   "mimetype": "text/x-python",
   "name": "python",
   "nbconvert_exporter": "python",
   "pygments_lexer": "ipython3",
   "version": "3.6.2"
  }
 },
 "nbformat": 4,
 "nbformat_minor": 2
}
