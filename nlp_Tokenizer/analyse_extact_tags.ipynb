{
 "cells": [
  {
   "cell_type": "code",
   "execution_count": 1,
   "metadata": {
    "collapsed": true
   },
   "outputs": [],
   "source": [
    "# 基于TF-IDF算法的关键词提取"
   ]
  },
  {
   "cell_type": "code",
   "execution_count": 2,
   "metadata": {
    "collapsed": true
   },
   "outputs": [],
   "source": [
    "# TF( Term Frequency) 单文本词频/关键词的频率\n",
    "# 某个特定的关键词在其所在的文档或句子中的频率\n",
    "# P(Word1) = (# Word1)/(# Words in this Document)"
   ]
  },
  {
   "cell_type": "code",
   "execution_count": 3,
   "metadata": {
    "collapsed": true
   },
   "outputs": [],
   "source": [
    "# 度量网页和查询的相关性，有一个简单的方法，就是直接使用各个关键词在网页中出现的总词频\n",
    "# 具体来说：\n",
    "#     TF1 + TF2 + TF3 + ... + TFN"
   ]
  },
  {
   "cell_type": "code",
   "execution_count": 4,
   "metadata": {
    "collapsed": true
   },
   "outputs": [],
   "source": [
    "# 一个关键词只有在很少的网页中出现，通过它就很容易锁定搜索目标，它的权重也就应该大。\n",
    "# 逆文本频率指数  Inverse Document Frequency ,IDF\n",
    "#  = log(D/D_{w})  # D为全部网页数，D_{w}为该指定词在所有文档中出现的次数"
   ]
  },
  {
   "cell_type": "code",
   "execution_count": 5,
   "metadata": {
    "collapsed": true
   },
   "outputs": [],
   "source": [
    "# 查询的相关性计算公式即为：\n",
    "#   TF1*IDF1 + TF2*IDF2 + ... +TFN * IDFN"
   ]
  },
  {
   "cell_type": "code",
   "execution_count": 6,
   "metadata": {
    "collapsed": true
   },
   "outputs": [],
   "source": [
    "# 所谓IDF的概念就是一个特定条件下关键词的概率分布的交叉熵(Kullback-Leibler Divergence)"
   ]
  },
  {
   "cell_type": "code",
   "execution_count": 7,
   "metadata": {
    "collapsed": true
   },
   "outputs": [],
   "source": [
    "import os\n",
    "import jieba\n",
    "import jieba.analyse"
   ]
  },
  {
   "cell_type": "code",
   "execution_count": 8,
   "metadata": {
    "collapsed": true
   },
   "outputs": [],
   "source": [
    "topK = 10"
   ]
  },
  {
   "cell_type": "code",
   "execution_count": 9,
   "metadata": {},
   "outputs": [],
   "source": [
    "filepath = os.path.join(os.getcwd(),'question.txt')"
   ]
  },
  {
   "cell_type": "code",
   "execution_count": 10,
   "metadata": {},
   "outputs": [],
   "source": [
    "with open(filepath,'r') as f:\n",
    "    content = f.read()"
   ]
  },
  {
   "cell_type": "code",
   "execution_count": 11,
   "metadata": {},
   "outputs": [
    {
     "name": "stderr",
     "output_type": "stream",
     "text": [
      "Building prefix dict from the default dictionary ...\n",
      "Loading model from cache /var/folders/w2/qnnfb62x2g760j3nkh9q4ptr0000gn/T/jieba.cache\n",
      "Loading model cost 0.643 seconds.\n",
      "Prefix dict has been built succesfully.\n"
     ]
    }
   ],
   "source": [
    "tags = jieba.analyse.extract_tags(content, topK = topK)"
   ]
  },
  {
   "cell_type": "code",
   "execution_count": 12,
   "metadata": {},
   "outputs": [
    {
     "name": "stdout",
     "output_type": "stream",
     "text": [
      "算法,长肉,EM,铁甲,清华大学,女孩子,上帝,喜欢,来到,希望\n"
     ]
    }
   ],
   "source": [
    "print(','.join(tags))"
   ]
  },
  {
   "cell_type": "code",
   "execution_count": 13,
   "metadata": {
    "collapsed": true
   },
   "outputs": [],
   "source": [
    "tags = jieba.analyse.extract_tags(content, topK = 20, withWeight=True)"
   ]
  },
  {
   "cell_type": "code",
   "execution_count": 14,
   "metadata": {},
   "outputs": [
    {
     "name": "stdout",
     "output_type": "stream",
     "text": [
      "[('算法', 1.1588255332173332), ('长肉', 0.8342922193933333), ('EM', 0.7969845001933333), ('铁甲', 0.604824260978), ('清华大学', 0.5387063147746667), ('女孩子', 0.5163879705306667), ('上帝', 0.4987121815886667), ('喜欢', 0.38017256020133333), ('来到', 0.359045792274), ('希望', 0.34702255167866664), ('北京', 0.31116015391466667), ('就是', 0.23987860718266668), ('我们', 0.226087864466), ('中国', 0.20182137911066667)]\n"
     ]
    }
   ],
   "source": [
    "print(list(tags))"
   ]
  },
  {
   "cell_type": "code",
   "execution_count": null,
   "metadata": {
    "collapsed": true
   },
   "outputs": [],
   "source": []
  },
  {
   "cell_type": "code",
   "execution_count": null,
   "metadata": {
    "collapsed": true
   },
   "outputs": [],
   "source": []
  },
  {
   "cell_type": "code",
   "execution_count": 15,
   "metadata": {
    "collapsed": true
   },
   "outputs": [],
   "source": [
    "# 关键词提取所使用逆向文件频率IDF文本语料库可以切换成自定义语料库的路径\n",
    "# jieba.analyse.set_idf_path(file_name)\n",
    "# 参数：filename 为自定义语料库的路径"
   ]
  },
  {
   "cell_type": "code",
   "execution_count": 32,
   "metadata": {},
   "outputs": [],
   "source": [
    "# jieba.analyse.set_idf_path('idf.txt.big')"
   ]
  },
  {
   "cell_type": "code",
   "execution_count": 33,
   "metadata": {},
   "outputs": [
    {
     "name": "stdout",
     "output_type": "stream",
     "text": [
      "['算法', '长肉', 'EM', '铁甲', '清华大学', '女孩子', '上帝', '喜欢', '来到', '希望']\n"
     ]
    }
   ],
   "source": [
    "# tags = jieba.analyse.extract_tags(content,topK = topK)\n",
    "# print(list(tags))"
   ]
  },
  {
   "cell_type": "code",
   "execution_count": 35,
   "metadata": {
    "collapsed": true
   },
   "outputs": [],
   "source": [
    "# 关键词提取所使用停止词Stop Words文本语料库可以切换成自定义语料库的路径\n",
    "jieba.analyse.set_stop_words('stop_words.txt')\n",
    "# jieba.analyse.set_idf_path('idf.txt.big')"
   ]
  },
  {
   "cell_type": "code",
   "execution_count": 36,
   "metadata": {},
   "outputs": [
    {
     "name": "stdout",
     "output_type": "stream",
     "text": [
      "['算法', '长肉', 'EM', '铁甲', '清华大学', '女孩子', '上帝', '喜欢', '来到', '希望']\n"
     ]
    }
   ],
   "source": [
    "tags = jieba.analyse.extract_tags(content, topK = topK)\n",
    "print(list(tags))"
   ]
  },
  {
   "cell_type": "code",
   "execution_count": null,
   "metadata": {
    "collapsed": true
   },
   "outputs": [],
   "source": []
  },
  {
   "cell_type": "code",
   "execution_count": null,
   "metadata": {
    "collapsed": true
   },
   "outputs": [],
   "source": []
  },
  {
   "cell_type": "code",
   "execution_count": 38,
   "metadata": {},
   "outputs": [
    {
     "name": "stdout",
     "output_type": "stream",
     "text": [
      "[('算法', 1.24159878559), ('长肉', 0.8938845207785714), ('EM', 0.8539119644928571), ('铁甲', 0.6480259939049999), ('清华大学', 0.5771853372585715), ('女孩子', 0.5532728255685714), ('上帝', 0.5343344802735714), ('喜欢', 0.40732774307285713), ('来到', 0.3846919202935714), ('希望', 0.3718098767985714)]\n"
     ]
    }
   ],
   "source": [
    "# 关键词 一并返回关键词权重值示例\n",
    "tags = jieba.analyse.extract_tags(content, topK=topK, withWeight=True)\n",
    "print(list(tags))"
   ]
  },
  {
   "cell_type": "code",
   "execution_count": null,
   "metadata": {
    "collapsed": true
   },
   "outputs": [],
   "source": []
  }
 ],
 "metadata": {
  "kernelspec": {
   "display_name": "Python 3",
   "language": "python",
   "name": "python3"
  },
  "language_info": {
   "codemirror_mode": {
    "name": "ipython",
    "version": 3
   },
   "file_extension": ".py",
   "mimetype": "text/x-python",
   "name": "python",
   "nbconvert_exporter": "python",
   "pygments_lexer": "ipython3",
   "version": "3.6.2"
  }
 },
 "nbformat": 4,
 "nbformat_minor": 2
}
