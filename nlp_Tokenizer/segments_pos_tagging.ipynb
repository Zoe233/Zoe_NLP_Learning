{
 "cells": [
  {
   "cell_type": "code",
   "execution_count": 73,
   "metadata": {
    "collapsed": true
   },
   "outputs": [],
   "source": [
    "# jieba分词、自定义词典"
   ]
  },
  {
   "cell_type": "code",
   "execution_count": 74,
   "metadata": {
    "collapsed": true
   },
   "outputs": [],
   "source": [
    "import jieba\n",
    "import jieba.posseg as pseg  # 分词+词性标注"
   ]
  },
  {
   "cell_type": "code",
   "execution_count": 75,
   "metadata": {
    "collapsed": true
   },
   "outputs": [],
   "source": [
    "# 添加自定义用户词典\n",
    "jieba.load_userdict('userdict.txt')"
   ]
  },
  {
   "cell_type": "code",
   "execution_count": 77,
   "metadata": {},
   "outputs": [],
   "source": [
    "# 在程序中动态修改词典 \n",
    "#     add_word(word,freq=None,tag=None),\n",
    "#     del_word(word),\n",
    "#     suggest_freq(segment, tunn = Ture)\n",
    "jieba.add_word('石墨烯')\n",
    "jieba.add_word('凯特琳')\n",
    "jieba.del_word('自定义词')"
   ]
  },
  {
   "cell_type": "code",
   "execution_count": 83,
   "metadata": {},
   "outputs": [],
   "source": [
    "test_sent=(\"李小福是创新办主任也是云计算方面的专家;什么是八一双鹿\\ n \"\n",
    "\"例如我输入一个带”韩玉赏鉴“的标题，在自定义词库中也增加了此词为N类\\ n \"\n",
    "\"'台中'正确应该不会被切开.mac上可分出「石墨烯」;此时又可以分出来凯特琳了。\")"
   ]
  },
  {
   "cell_type": "code",
   "execution_count": 84,
   "metadata": {},
   "outputs": [
    {
     "name": "stdout",
     "output_type": "stream",
     "text": [
      "李小福/是/创新办/主任/也/是/云计算/方面/的/专家/;/什么/是/八一双鹿/\\/ /n/ /例如/我/输入/一个/带/”/韩玉赏鉴/“/的/标题/，/在/自定义/词库/中/也/增加/了/此/词为/N/类/\\/ /n/ /'/台中/'/正确/应该/不会/被/切开/./mac/上/可/分出/「/石墨烯/」/;/此时/又/可以/分/出来/凯特琳/了/。\n"
     ]
    }
   ],
   "source": [
    "# 默认精确模式分词\n",
    "words = jieba.cut(test_sent)\n",
    "print('/'.join(words))"
   ]
  },
  {
   "cell_type": "code",
   "execution_count": null,
   "metadata": {
    "collapsed": true
   },
   "outputs": [],
   "source": []
  },
  {
   "cell_type": "code",
   "execution_count": 85,
   "metadata": {},
   "outputs": [
    {
     "name": "stdout",
     "output_type": "stream",
     "text": [
      "李小福 / nr ,\n",
      "是 / v ,\n",
      "创新办 / i ,\n",
      "主任 / b ,\n",
      "也 / d ,\n",
      "是 / v ,\n",
      "云计算 / x ,\n",
      "方面 / n ,\n",
      "的 / uj ,\n",
      "专家 / n ,\n",
      "; / x ,\n",
      "什么 / r ,\n",
      "是 / v ,\n",
      "八一双鹿 / nz ,\n",
      "\\ / x ,\n",
      "  / x ,\n",
      "n / x ,\n",
      "  / x ,\n",
      "例如 / v ,\n",
      "我 / r ,\n",
      "输入 / v ,\n",
      "一个 / m ,\n",
      "带 / v ,\n",
      "” / x ,\n",
      "韩玉赏鉴 / nz ,\n",
      "“ / x ,\n",
      "的 / uj ,\n",
      "标题 / n ,\n",
      "， / x ,\n",
      "在 / p ,\n",
      "自定义 / l ,\n",
      "词库 / n ,\n",
      "中 / f ,\n",
      "也 / d ,\n",
      "增加 / v ,\n",
      "了 / ul ,\n",
      "此 / r ,\n",
      "词 / n ,\n",
      "为 / p ,\n",
      "N / eng ,\n",
      "类 / q ,\n",
      "\\ / x ,\n",
      "  / x ,\n",
      "n / x ,\n",
      "  / x ,\n",
      "' / x ,\n",
      "台中 / s ,\n",
      "' / x ,\n",
      "正确 / ad ,\n",
      "应该 / v ,\n",
      "不会 / v ,\n",
      "被 / p ,\n",
      "切开 / ad ,\n",
      ". / m ,\n",
      "mac / eng ,\n",
      "上 / f ,\n",
      "可 / v ,\n",
      "分出 / v ,\n",
      "「 / x ,\n",
      "石墨烯 / x ,\n",
      "」 / x ,\n",
      "; / x ,\n",
      "此时 / c ,\n",
      "又 / d ,\n",
      "可以 / c ,\n",
      "分 / v ,\n",
      "出来 / v ,\n",
      "凯特琳 / nz ,\n",
      "了 / ul ,\n",
      "。 / x ,\n"
     ]
    }
   ],
   "source": [
    "# 词性标注\n",
    "result = pseg.cut(test_sent)\n",
    "for w in result:\n",
    "    print(w.word,'/', w.flag,',',end='\\n')"
   ]
  },
  {
   "cell_type": "code",
   "execution_count": 86,
   "metadata": {
    "collapsed": true
   },
   "outputs": [],
   "source": [
    "# test frequency tune\n",
    "testlist =[\n",
    "('今天天气不错', ('今天', '天气')),\n",
    "('如果放到post中将出错。', ('中', '将')),\n",
    "('我们中出了一个叛徒', ('中', '出')),\n",
    "]"
   ]
  },
  {
   "cell_type": "code",
   "execution_count": 91,
   "metadata": {
    "scrolled": true
   },
   "outputs": [
    {
     "name": "stdout",
     "output_type": "stream",
     "text": [
      "今天/天气/不错\n",
      ">>>> 今天天气\n",
      "今天天气 Before: 0, After: 1\n",
      "今天天气/不错\n",
      "**************************************************\n",
      "如果/放到/post/中/将/出错/。\n",
      ">>>> 中将\n",
      "中将 Before: 494, After: 495\n",
      "如果/放到/post/中将/出错/。\n",
      "**************************************************\n",
      "我们/中/出/了/一个/叛徒\n",
      ">>>> 中出\n",
      "中出 Before: 3, After: 348\n",
      "我们/中出/了/一个/叛徒\n",
      "**************************************************\n"
     ]
    }
   ],
   "source": [
    "for sent,seg in testlist:\n",
    "    print('/'.join(jieba.cut(sent, HMM=False)))\n",
    "    word = ''.join(seg)\n",
    "    print('>>>>',word)\n",
    "    print('%s Before: %s, After: %s' % \n",
    "          (word, jieba.get_FREQ(word), jieba.suggest_freq(word, True)))\n",
    "    print('/'.join(jieba.cut(sent, HMM=False)))\n",
    "    print('*'*50)"
   ]
  },
  {
   "cell_type": "code",
   "execution_count": null,
   "metadata": {
    "collapsed": true
   },
   "outputs": [],
   "source": []
  }
 ],
 "metadata": {
  "kernelspec": {
   "display_name": "Python 3",
   "language": "python",
   "name": "python3"
  },
  "language_info": {
   "codemirror_mode": {
    "name": "ipython",
    "version": 3
   },
   "file_extension": ".py",
   "mimetype": "text/x-python",
   "name": "python",
   "nbconvert_exporter": "python",
   "pygments_lexer": "ipython3",
   "version": "3.6.2"
  }
 },
 "nbformat": 4,
 "nbformat_minor": 2
}
