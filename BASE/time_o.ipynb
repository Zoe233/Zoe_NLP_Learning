{
 "cells": [
  {
   "cell_type": "code",
   "execution_count": 2,
   "metadata": {
    "collapsed": true
   },
   "outputs": [],
   "source": [
    "# 题目：\n",
    "# 如果 a+b+c=1000，且 a^2+b^2=c^2（a,b,c 为自然数），\n",
    "# 如何求出所有a、b、c可能的组合?"
   ]
  },
  {
   "cell_type": "code",
   "execution_count": 3,
   "metadata": {
    "collapsed": true
   },
   "outputs": [],
   "source": [
    "# 枚举法\n",
    "# 思路：\n",
    "# a=0\n",
    "# b=0\n",
    "# c=0\n",
    "# 判断条件一:a+b+c=1000是否满足；\n",
    "#     满足计算，\n",
    "#     不满足，则先改变c，c+=1 直到c=1000\n",
    "# c的判断完成后，对b进行循环判断\n",
    "# ..."
   ]
  },
  {
   "cell_type": "code",
   "execution_count": 6,
   "metadata": {},
   "outputs": [
    {
     "name": "stdout",
     "output_type": "stream",
     "text": [
      "[(0, 500, 500), (200, 375, 425), (375, 200, 425), (500, 0, 500)]\n",
      "Cost Time: 125.02226185798645\n"
     ]
    }
   ],
   "source": [
    "import time\n",
    "start_time = time.time()\n",
    "answer = []\n",
    "for a in range(0,1000):\n",
    "    for b in range(0,1000):\n",
    "        for c in range(0,1000):\n",
    "            if a+b+c == 1000 and a*a+b*b == c*c:\n",
    "                answer.append((a,b,c))\n",
    "end_time = time.time()\n",
    "print(answer)\n",
    "print('Cost Time:',end_time-start_time)\n",
    "    "
   ]
  },
  {
   "cell_type": "code",
   "execution_count": null,
   "metadata": {
    "collapsed": true
   },
   "outputs": [],
   "source": [
    "# 时间复杂度：\n",
    "\n",
    "# T(n) = O(n*n*n) = O(n^3)"
   ]
  },
  {
   "cell_type": "code",
   "execution_count": 7,
   "metadata": {
    "collapsed": true
   },
   "outputs": [],
   "source": [
    "# 算法是独立存在的一种解决问题的方法和思想。"
   ]
  },
  {
   "cell_type": "code",
   "execution_count": 8,
   "metadata": {
    "collapsed": true
   },
   "outputs": [],
   "source": [
    "# 算法的五大特性\n",
    "\n",
    "# 输入: 算法具有0个或多个输入\n",
    "# 输出: 算法至少有1个或多个输出\n",
    "# 有穷性: 算法在有限的步骤之后会自动结束而不会无限循环，并且每一个步骤可以在可接受的时间内完成\n",
    "# 确定性：算法中的每一步都有确定的含义，不会出现二义性\n",
    "# 可行性：算法的每一步都是可行的，也就是说每一步都能够执行有限的次数完成"
   ]
  },
  {
   "cell_type": "code",
   "execution_count": null,
   "metadata": {
    "collapsed": true
   },
   "outputs": [],
   "source": []
  },
  {
   "cell_type": "code",
   "execution_count": null,
   "metadata": {
    "collapsed": true
   },
   "outputs": [],
   "source": [
    "# 第二次尝试：优化\n",
    "# 思路:\n",
    "# a+b+c =1000\n",
    "# 即c=1000-a-b"
   ]
  },
  {
   "cell_type": "code",
   "execution_count": 9,
   "metadata": {},
   "outputs": [
    {
     "name": "stdout",
     "output_type": "stream",
     "text": [
      "answer: 0 500 500\n",
      "answer: 200 375 425\n",
      "answer: 375 200 425\n",
      "answer: 500 0 500\n",
      "Cost Time: 0.3566439151763916\n"
     ]
    }
   ],
   "source": [
    "start_time = time.time()\n",
    "for a in range(1000):\n",
    "    for b in range(1000):\n",
    "        c = 1000-a-b\n",
    "        if a*a+b*b == c*c:\n",
    "            print('answer:',a,b,c)\n",
    "end_time = time.time()\n",
    "print('Cost Time:',end_time-start_time)"
   ]
  },
  {
   "cell_type": "code",
   "execution_count": null,
   "metadata": {
    "collapsed": true
   },
   "outputs": [],
   "source": [
    "# 时间复杂度：\n",
    "# T(n) = O(n*n*(1+1)) = O(n*n) = O(n^2)"
   ]
  },
  {
   "cell_type": "code",
   "execution_count": 10,
   "metadata": {
    "collapsed": true
   },
   "outputs": [],
   "source": [
    "# 算法效率衡量\n",
    "# 时间复杂度 和 空间复杂度 与 与“大O记法”\n",
    "\n",
    "# 时间复杂度的几条基本计算规则\n",
    "\n",
    "# 基本操作，即只有常数项，认为其时间复杂度为O(1)\n",
    "# 顺序结构，时间复杂度按加法进行计算\n",
    "# 循环结构，时间复杂度按乘法进行计算\n",
    "# 分支结构，时间复杂度取最大值\n",
    "# 判断一个算法的效率时，往往只需要关注操作数量的最高次项，其它次要项和常数项可以忽略\n",
    "# 在没有特殊说明时，我们所分析的算法的时间复杂度都是指最坏时间复杂度"
   ]
  },
  {
   "cell_type": "code",
   "execution_count": 11,
   "metadata": {
    "collapsed": true
   },
   "outputs": [],
   "source": [
    "def bubble_sort(alist):\n",
    "    for j in range(len(alist)-1,0,-1):\n",
    "        # j表示每次遍历需要比较的次数，是逐渐减小的\n",
    "        for i in range(j):\n",
    "            if alist[i] > alist[i+1]:\n",
    "                alist[i], alist[i+1] = alist[i+1], alist[i]"
   ]
  },
  {
   "cell_type": "code",
   "execution_count": 12,
   "metadata": {},
   "outputs": [
    {
     "name": "stdout",
     "output_type": "stream",
     "text": [
      "[17, 20, 26, 31, 44, 54, 55, 77, 93]\n"
     ]
    }
   ],
   "source": [
    "li = [54,26,93,17,77,31,44,55,20]\n",
    "bubble_sort(li)\n",
    "print(li)"
   ]
  },
  {
   "cell_type": "code",
   "execution_count": 13,
   "metadata": {},
   "outputs": [
    {
     "data": {
      "text/plain": [
       "[9, 8, 7, 6, 5, 4, 3, 2, 1]"
      ]
     },
     "execution_count": 13,
     "metadata": {},
     "output_type": "execute_result"
    }
   ],
   "source": [
    "list(range(len(li),0,-1))"
   ]
  },
  {
   "cell_type": "code",
   "execution_count": 28,
   "metadata": {
    "collapsed": true
   },
   "outputs": [],
   "source": [
    "def bubble_sort2(alist):\n",
    "    for j in range(len(alist)-1,0,-1):\n",
    "        print('j',j)\n",
    "        for i in range(j):\n",
    "            if alist[i] > alist[i+1]:\n",
    "                alist[i], alist[i+1] = alist[i+1], alist[i]"
   ]
  },
  {
   "cell_type": "code",
   "execution_count": 29,
   "metadata": {},
   "outputs": [
    {
     "name": "stdout",
     "output_type": "stream",
     "text": [
      "j 3\n",
      "j 2\n",
      "j 1\n"
     ]
    }
   ],
   "source": [
    "ll = [89,91,30,45]\n",
    "bubble_sort2(ll)"
   ]
  },
  {
   "cell_type": "code",
   "execution_count": 27,
   "metadata": {},
   "outputs": [
    {
     "name": "stdout",
     "output_type": "stream",
     "text": [
      "[30, 45, 89, 91]\n"
     ]
    }
   ],
   "source": [
    "print(ll)"
   ]
  },
  {
   "cell_type": "code",
   "execution_count": null,
   "metadata": {
    "collapsed": true
   },
   "outputs": [],
   "source": []
  }
 ],
 "metadata": {
  "kernelspec": {
   "display_name": "Python 3",
   "language": "python",
   "name": "python3"
  },
  "language_info": {
   "codemirror_mode": {
    "name": "ipython",
    "version": 3
   },
   "file_extension": ".py",
   "mimetype": "text/x-python",
   "name": "python",
   "nbconvert_exporter": "python",
   "pygments_lexer": "ipython3",
   "version": "3.6.2"
  }
 },
 "nbformat": 4,
 "nbformat_minor": 2
}
