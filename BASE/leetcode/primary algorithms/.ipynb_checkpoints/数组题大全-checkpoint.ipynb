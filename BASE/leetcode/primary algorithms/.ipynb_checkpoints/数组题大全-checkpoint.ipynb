{
 "cells": [
  {
   "cell_type": "code",
   "execution_count": 1,
   "metadata": {
    "collapsed": true
   },
   "outputs": [],
   "source": [
    "# 初级算法-数组题大全"
   ]
  },
  {
   "cell_type": "code",
   "execution_count": 43,
   "metadata": {},
   "outputs": [
    {
     "name": "stdout",
     "output_type": "stream",
     "text": [
      "================================================第1题=================================================\n"
     ]
    }
   ],
   "source": [
    "print('第1题'.center(100,'='))"
   ]
  },
  {
   "cell_type": "code",
   "execution_count": null,
   "metadata": {
    "collapsed": true
   },
   "outputs": [],
   "source": [
    "1.给定一个排序数组，你需要在原地删除重复出现的元素，使得每个元素只出现一次，返回移除后数组的新长度。\n",
    "\n",
    "不要使用额外的数组空间，你必须在原地修改输入数组并在使用 O(1) 额外空间的条件下完成。\n",
    "\n",
    "示例 1:\n",
    "\n",
    "    给定数组 nums = [1,1,2], \n",
    "    函数应该返回新的长度 2, 并且原数组 nums 的前两个元素被修改为 1, 2。 \n",
    "    你不需要考虑数组中超出新长度后面的元素. ==> 看了答案后，明白了这句话，并不一定要将结果删除，返回的length用于切片。"
   ]
  },
  {
   "cell_type": "code",
   "execution_count": 2,
   "metadata": {
    "collapsed": true
   },
   "outputs": [],
   "source": [
    "# top1 答案： 这个应该不属于正常的算法考核的答案，而是使用了内置方法。\n",
    "class Solution:\n",
    "    def removeDuplicates(self, nums):\n",
    "        \"\"\"\n",
    "        :type nums: List[int]\n",
    "        :rtype: int\n",
    "        \"\"\"\n",
    "        nums[:] = sorted(list(set(nums)))\n",
    "        return len(set(nums))\n",
    "    "
   ]
  },
  {
   "cell_type": "code",
   "execution_count": 3,
   "metadata": {
    "collapsed": true
   },
   "outputs": [],
   "source": [
    "# top2 答案：返回值是新列表的长度，但是这里面有作弊，只有index，没有删除列表中的值，应该不能算真正解决了题目\n",
    "class Solution:\n",
    "    def removeDuplicates(self, nums):\n",
    "        \"\"\"\n",
    "        :type nums: List[int]\n",
    "        :rtype: int\n",
    "        \"\"\"\n",
    "        if len(nums) < 2: # 如果nums的长度小于2，则不存在重复，避免时间浪费\n",
    "            return len(nums)\n",
    "        index = 1\n",
    "        for i in range(1,len(nums)):\n",
    "            if nums[i] > nums[index -1]:\n",
    "                nums[index] = nums[i]\n",
    "                index += 1\n",
    "        return index  "
   ]
  },
  {
   "cell_type": "code",
   "execution_count": 5,
   "metadata": {},
   "outputs": [],
   "source": [
    "# top3 答案：还是用上了内置方法，感觉不是要的那种\n",
    "class Solution:\n",
    "    def removeDuplicates(self, nums):\n",
    "        \"\"\"\n",
    "        :type nums: List[int]\n",
    "        :rtype: int\n",
    "        \"\"\"\n",
    "        l = len(nums)\n",
    "        if l == 0:\n",
    "            return 0\n",
    "        for i in reversed(range(l)[1:]):\n",
    "            if nums[i] == nums[i-1]:\n",
    "                nums.pop(i)\n",
    "        return len(nums)"
   ]
  },
  {
   "cell_type": "code",
   "execution_count": null,
   "metadata": {
    "collapsed": true
   },
   "outputs": [],
   "source": [
    "# top4 答案：不原地删除列表中的元素，仅记录下唯一值的索引，也不是完全按题意进行的\n",
    "class Solution:\n",
    "    def removeDuplicates(self, nums):\n",
    "        \"\"\"\n",
    "        :type nums: List[int]\n",
    "        :rtype: int\n",
    "        \"\"\"\n",
    "        flag = 0 \n",
    "        t = 1\n",
    "        if len(nums)==0:\n",
    "            return 0\n",
    "        elif len(nums) == 1:\n",
    "            return 1\n",
    "        else:\n",
    "            for it in range(1,len(nums)):\n",
    "                if nums[flag] == nums[it]:\n",
    "                    continue\n",
    "                else:\n",
    "                    flag+=1\n",
    "                    nums[flag] = nums[it]\n",
    "            return flag+1"
   ]
  },
  {
   "cell_type": "code",
   "execution_count": 6,
   "metadata": {
    "collapsed": true
   },
   "outputs": [],
   "source": [
    "# ... 看了很多排名很前的答案，虽然通过了提交的审核，但是实际上都没有严格完成题目的要求。\n",
    "# 有不同程度的投机取巧。"
   ]
  },
  {
   "cell_type": "code",
   "execution_count": 7,
   "metadata": {
    "collapsed": true
   },
   "outputs": [],
   "source": [
    "# 第一次提交的网上的答案\n",
    "class Solution(object):\n",
    "    def removeDuplicates(self, nums):\n",
    "        \"\"\"\n",
    "        :type nums: List[int]\n",
    "        :rtype: int\n",
    "        \"\"\"\n",
    "        result = 1;\n",
    "        length = len(nums);\n",
    "        if length == 0:\n",
    "            return 0;\n",
    "        if length == 1:\n",
    "            return 1;\n",
    "        for i in range(1,length):\n",
    "            if nums[i] == nums[i - 1]:\n",
    "                continue;\n",
    "            else:\n",
    "                nums[result] = nums[i];\n",
    "                result += 1;\n",
    "        return result;"
   ]
  },
  {
   "cell_type": "code",
   "execution_count": 12,
   "metadata": {},
   "outputs": [
    {
     "name": "stdout",
     "output_type": "stream",
     "text": [
      "2\n",
      "[1, 2]\n"
     ]
    }
   ],
   "source": [
    "# 自己第一次写的，时间复杂度高了\n",
    "class Solution:\n",
    "    def removeDuplicates(self, nums):\n",
    "        \"\"\"\n",
    "        :type nums: List[int]\n",
    "        :rtype: int\n",
    "        \"\"\"\n",
    "        values = {}\n",
    "        for i in nums:\n",
    "            if values.get(i):\n",
    "                values[i] +=1\n",
    "            else:\n",
    "                values[i] = 1\n",
    "        \n",
    "        for num,count in values.items():\n",
    "            if count >1:\n",
    "                for i in range(count-1):\n",
    "                    nums.remove(num)\n",
    "        return len(nums)\n",
    "    \n",
    "s = Solution()\n",
    "nums = [1,1,2]\n",
    "i = s.removeDuplicates(nums)\n",
    "print(i)\n",
    "print(nums[:2])\n",
    "    "
   ]
  },
  {
   "cell_type": "code",
   "execution_count": 37,
   "metadata": {},
   "outputs": [
    {
     "name": "stdout",
     "output_type": "stream",
     "text": [
      "3\n",
      "[1, 2, 4]\n"
     ]
    }
   ],
   "source": [
    "# 最终认可的答案，还是top2的答案，这个也最符合自己的思路。\n",
    "class Solution:\n",
    "    def removeDuplicates(self, nums):\n",
    "        \"\"\"\n",
    "        :type nums: List[int]\n",
    "        :rtype: int\n",
    "        \"\"\"\n",
    "        if len(nums) <2:\n",
    "            return len(nums)\n",
    "        index = 1\n",
    "                        \n",
    "        for i in range(1,len(nums)):\n",
    "            if nums[i] > nums[index -1]:\n",
    "                nums[index] = nums[i]\n",
    "                index +=1\n",
    "            \n",
    "        return index\n",
    "    \n",
    "s = Solution()\n",
    "nums = [1,1,2,2,4]\n",
    "i = s.removeDuplicates(nums)\n",
    "print(i)\n",
    "print(nums[:i])\n",
    "                \n",
    "            "
   ]
  },
  {
   "cell_type": "code",
   "execution_count": null,
   "metadata": {
    "collapsed": true
   },
   "outputs": [],
   "source": []
  },
  {
   "cell_type": "code",
   "execution_count": null,
   "metadata": {
    "collapsed": true
   },
   "outputs": [],
   "source": []
  },
  {
   "cell_type": "code",
   "execution_count": 44,
   "metadata": {},
   "outputs": [
    {
     "name": "stdout",
     "output_type": "stream",
     "text": [
      "================================================第2题=================================================\n"
     ]
    }
   ],
   "source": [
    "print('第2题'.center(100,'='))"
   ]
  },
  {
   "cell_type": "code",
   "execution_count": null,
   "metadata": {
    "collapsed": true
   },
   "outputs": [],
   "source": []
  },
  {
   "cell_type": "code",
   "execution_count": null,
   "metadata": {
    "collapsed": true
   },
   "outputs": [],
   "source": []
  },
  {
   "cell_type": "code",
   "execution_count": null,
   "metadata": {
    "collapsed": true
   },
   "outputs": [],
   "source": []
  },
  {
   "cell_type": "code",
   "execution_count": null,
   "metadata": {
    "collapsed": true
   },
   "outputs": [],
   "source": []
  },
  {
   "cell_type": "code",
   "execution_count": null,
   "metadata": {
    "collapsed": true
   },
   "outputs": [],
   "source": []
  }
 ],
 "metadata": {
  "kernelspec": {
   "display_name": "Python 3",
   "language": "python",
   "name": "python3"
  },
  "language_info": {
   "codemirror_mode": {
    "name": "ipython",
    "version": 3
   },
   "file_extension": ".py",
   "mimetype": "text/x-python",
   "name": "python",
   "nbconvert_exporter": "python",
   "pygments_lexer": "ipython3",
   "version": "3.6.2"
  }
 },
 "nbformat": 4,
 "nbformat_minor": 2
}
