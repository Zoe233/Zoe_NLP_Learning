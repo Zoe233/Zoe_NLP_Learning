{
 "cells": [
  {
   "cell_type": "code",
   "execution_count": 1,
   "metadata": {
    "collapsed": true
   },
   "outputs": [],
   "source": [
    "# leetcode problems"
   ]
  },
  {
   "cell_type": "code",
   "execution_count": null,
   "metadata": {
    "collapsed": true
   },
   "outputs": [],
   "source": [
    "1.两数之和 twoSum\n",
    "\n",
    "给定一个整数数组和一个目标值，找出数组中和为目标值的两个数。\n",
    "你可以假设每个输入只对应一种答案，且同样的元素不能被重复利用。\n",
    "\n",
    "示例:\n",
    "给定 nums = [2, 7, 11, 15], target = 9\n",
    "\n",
    "因为 nums[0] + nums[1] = 2 + 7 = 9\n",
    "所以返回 [0, 1]\n"
   ]
  },
  {
   "cell_type": "code",
   "execution_count": 2,
   "metadata": {
    "collapsed": true
   },
   "outputs": [],
   "source": [
    "class Solution:\n",
    "    def twoSum(self, nums, target):\n",
    "        \"\"\"\n",
    "        :type nums: List[int]\n",
    "        :type target: int\n",
    "        :rtype: List[int]\n",
    "        \"\"\"\n",
    "        unordered_map = {}\n",
    "        res = []\n",
    "        for i in range(len(nums)):\n",
    "            t = target-nums[i]\n",
    "            \n",
    "            if unordered_map.get(t) is not None:\n",
    "                res.append(i)\n",
    "                res.append(unordered_map.get(t))\n",
    "                break\n",
    "            unordered_map[nums[i]] = i\n",
    "        return res"
   ]
  },
  {
   "cell_type": "code",
   "execution_count": 3,
   "metadata": {},
   "outputs": [
    {
     "name": "stdout",
     "output_type": "stream",
     "text": [
      "[2, 1]\n"
     ]
    }
   ],
   "source": [
    "s = Solution()\n",
    "print(s.twoSum([1,2,3],5))"
   ]
  },
  {
   "cell_type": "code",
   "execution_count": null,
   "metadata": {
    "collapsed": true
   },
   "outputs": [],
   "source": []
  },
  {
   "cell_type": "code",
   "execution_count": null,
   "metadata": {
    "collapsed": true
   },
   "outputs": [],
   "source": [
    "2.两数相加 addTwoNumbers\n",
    "给定两个非空链表来表示两个非负整数。位数按照逆序方式存储，它们的每个节点只存储单个数字。将两数相加返回一个新的链表。\n",
    "\n",
    "你可以假设除了数字 0 之外，这两个数字都不会以零开头。\n",
    "\n",
    "示例：\n",
    "\n",
    "输入：(2 -> 4 -> 3) + (5 -> 6 -> 4)\n",
    "输出：7 -> 0 -> 8\n",
    "原因：342 + 465 = 807"
   ]
  },
  {
   "cell_type": "code",
   "execution_count": null,
   "metadata": {
    "collapsed": true
   },
   "outputs": [],
   "source": [
    "问题分析\n",
    "本题其实是一个大数相加问题，题目本身难度不大，需要考虑以下几个方面：\n",
    "    1. 设计好数据结构，反序存储数字，如数字932存储为2 -> 3 -> 9;\n",
    "\n",
    "    //结点数据结构\n",
    "    struct ListNode {\n",
    "      ListNode(int x) : val(x), next(NULL){}\n",
    "      int val;\n",
    "      ListNode *next;\n",
    "    };\n",
    "链表对应结点相加时增加前一个结点的进位，并保存下一个结点的进位；\n",
    "两个链表长度不一致时，要处理较长链表剩余的高位和进位计算的值；\n",
    "如果最高位计算时还产生进位，则还需要添加一个额外结点。"
   ]
  },
  {
   "cell_type": "code",
   "execution_count": 12,
   "metadata": {},
   "outputs": [
    {
     "name": "stdout",
     "output_type": "stream",
     "text": [
      "<__main__.ListNode object at 0x112fe3cc0>\n"
     ]
    }
   ],
   "source": [
    "# Definition for singly-linked list.\n",
    "class ListNode:\n",
    "    def __init__(self, x):\n",
    "        self.val = x\n",
    "        self.next = None\n",
    "\n",
    "\n",
    "\n",
    "class Solution:\n",
    "    def addTwoNumbers(self, l1, l2):\n",
    "        \"\"\"\n",
    "        :type l1: ListNode\n",
    "        :type l2: ListNode\n",
    "        :rtype: ListNode\n",
    "        \"\"\"\n",
    "        dummyHead = ListNode(0) # 初始化虚拟节点\n",
    "        p = l1  # 将l1赋值给p\n",
    "        q = l2  # 将l2赋值给q\n",
    "        curr = dummyHead\n",
    "        carry = 0 # 初始化carry值，用于overflow 进位计算\n",
    "        while (p is not None or q is not None ): # 判断两链表是否有空链表的情况，两个均为空则不进行求和运算\n",
    "            x = p.val if p is not None else 0\n",
    "            y = q.val if q is not None else 0 \n",
    "            sum = carry + x + y\n",
    "            curr.next = ListNode(sum%10)\n",
    "            curr = curr.next\n",
    "            if p is not None:\n",
    "                p = p.next\n",
    "            if q is not None:\n",
    "                q = q.next\n",
    "        if carry>0:\n",
    "            curr.next = ListNode(carry)\n",
    "        return dummyHead.next\n",
    "            \n",
    "s = Solution()\n",
    "l1 = ListNode(1)\n",
    "l2 = ListNode(2)\n",
    "a = s.addTwoNumbers(l1,l2)\n",
    "print(a)\n",
    "    \n",
    "    \n",
    "# l = ListNode(0)\n",
    "# print(l)\n",
    "# print(l.val)\n",
    "# print(l.next)"
   ]
  },
  {
   "cell_type": "code",
   "execution_count": 13,
   "metadata": {
    "collapsed": true
   },
   "outputs": [],
   "source": [
    "class ListNode:\n",
    "    def __init__(self, x):\n",
    "        self.val = x\n",
    "        self.next = None\n",
    "\n",
    "class Solution:\n",
    "    def addTwoNumbers(self, l1, l2):\n",
    "        carry = 0\n",
    "        res = n = ListNode(0)\n",
    "        while l1 or l2 or carry:\n",
    "            if l1:\n",
    "                carry += l1.val\n",
    "                l1 = l1.next\n",
    "            if l2:\n",
    "                carry += l2.val\n",
    "                l2 = l2.next\n",
    "            carry, val = divmod(carry, 10)\n",
    "            n.next = n = ListNode(val)\n",
    "        return res.next\n",
    "\n",
    "l1 = ListNode(0)\n",
    "s = Solution()"
   ]
  },
  {
   "cell_type": "code",
   "execution_count": 14,
   "metadata": {
    "collapsed": true
   },
   "outputs": [],
   "source": [
    "# 最优秀的答案\n",
    "class ListNode:\n",
    "    def __init__(self, x):\n",
    "        self.val = x\n",
    "        self.next = None\n",
    "\n",
    "class Solution:\n",
    "    def addTwoNumbers(self, l1, l2):\n",
    "        \"\"\"\n",
    "        :type l1: ListNode\n",
    "        :type l2: ListNode\n",
    "        :rtype: ListNode\n",
    "        \"\"\"\n",
    "        p = l1  # 将l1链表赋值给p\n",
    "        q = l2  # 将l2链表赋值给q\n",
    "        t = None\n",
    "        c = 0  # 进位值初始化为0\n",
    "        while p and q: # 当p和q两个链表均非空时\n",
    "            p.val = p.val + q.val + c  # 从函数最终的返回值和此处均可以发现是将两个链表的求和结果覆盖了l1,用t当做临时值\n",
    "            c = p.val // 10\n",
    "            p.val = p.val%10\n",
    "            t = p\n",
    "            p = p.next\n",
    "            q = q.next\n",
    "        while p:\n",
    "            p.val = p.val + c\n",
    "            c = p.val //10\n",
    "            p.val = p.val%10\n",
    "            t = p\n",
    "            p = p.next\n",
    "        p = t\n",
    "        p.next = q\n",
    "        p = p.next\n",
    "        while p:\n",
    "            p.val = p.val + c\n",
    "            c = p.val //10\n",
    "            p.val = p.val%10\n",
    "            t = p\n",
    "            p = p.next\n",
    "        if c == 1:\n",
    "            p = t\n",
    "            x = ListNode(1)\n",
    "            p.next = x\n",
    "        return l1"
   ]
  },
  {
   "cell_type": "code",
   "execution_count": null,
   "metadata": {
    "collapsed": true
   },
   "outputs": [],
   "source": [
    "# 时间排名第二梯队的答案\n",
    "# Definition for singly-linked list.\n",
    "# class ListNode:\n",
    "#     def __init__(self, x):\n",
    "#         self.val = x\n",
    "#         self.next = None\n",
    "\n",
    "class Solution:\n",
    "    def addTwoNumbers(self, l1, l2):\n",
    "        \"\"\"\n",
    "        :type l1: ListNode\n",
    "        :type l2: ListNode\n",
    "        :rtype: ListNode\n",
    "        \"\"\"\n",
    "        \n",
    "        a = l1\n",
    "        b = l2\n",
    "        \n",
    "        curr = a\n",
    "        carry = 0\n",
    "        i = 1\n",
    "        total = 0\n",
    "        while(a and b):\n",
    "            sum_val = a.val + b.val + carry\n",
    "            carry = int(sum_val / 10)\n",
    "            sum_val = sum_val % 10\n",
    "            \n",
    "            curr = a\n",
    "            \n",
    "            a.val = sum_val\n",
    "            a = a.next\n",
    "            b = b.next\n",
    "        \n",
    "        while(a):\n",
    "            a.val = a.val + carry\n",
    "            carry = int(a.val / 10)\n",
    "            a.val = a.val % 10\n",
    "            \n",
    "            curr = a\n",
    "            a = a.next\n",
    "        \n",
    "        if(b):\n",
    "            curr.next = b\n",
    "            \n",
    "        while(b):\n",
    "            b.val = b.val + carry\n",
    "            carry = int(b.val / 10)\n",
    "            b.val = b.val % 10\n",
    "            curr = b\n",
    "            b = b.next\n",
    "        \n",
    "        if(carry):\n",
    "            curr.next = ListNode(carry)\n",
    "        \n",
    "        \n",
    "        return l1"
   ]
  }
 ],
 "metadata": {
  "kernelspec": {
   "display_name": "Python 3",
   "language": "python",
   "name": "python3"
  },
  "language_info": {
   "codemirror_mode": {
    "name": "ipython",
    "version": 3
   },
   "file_extension": ".py",
   "mimetype": "text/x-python",
   "name": "python",
   "nbconvert_exporter": "python",
   "pygments_lexer": "ipython3",
   "version": "3.6.2"
  }
 },
 "nbformat": 4,
 "nbformat_minor": 2
}
