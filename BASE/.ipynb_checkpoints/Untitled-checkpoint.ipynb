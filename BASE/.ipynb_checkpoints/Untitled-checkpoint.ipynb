{
 "cells": [
  {
   "cell_type": "code",
   "execution_count": 2,
   "metadata": {
    "collapsed": true
   },
   "outputs": [],
   "source": [
    "# 题目：\n",
    "# 如果 a+b+c=1000，且 a^2+b^2=c^2（a,b,c 为自然数），\n",
    "# 如何求出所有a、b、c可能的组合?"
   ]
  },
  {
   "cell_type": "code",
   "execution_count": 3,
   "metadata": {
    "collapsed": true
   },
   "outputs": [],
   "source": [
    "# 枚举法\n",
    "# 思路：\n",
    "# a=0\n",
    "# b=0\n",
    "# c=0\n",
    "# 判断条件一:a+b+c=1000是否满足；\n",
    "#     满足计算，\n",
    "#     不满足，则先改变c，c+=1 直到c=1000\n",
    "# c的判断完成后，对b进行循环判断\n",
    "# ..."
   ]
  },
  {
   "cell_type": "code",
   "execution_count": 6,
   "metadata": {},
   "outputs": [
    {
     "name": "stdout",
     "output_type": "stream",
     "text": [
      "[(0, 500, 500), (200, 375, 425), (375, 200, 425), (500, 0, 500)]\n",
      "Cost Time: 125.02226185798645\n"
     ]
    }
   ],
   "source": [
    "import time\n",
    "start_time = time.time()\n",
    "answer = []\n",
    "for a in range(0,1000):\n",
    "    for b in range(0,1000):\n",
    "        for c in range(0,1000):\n",
    "            if a+b+c == 1000 and a*a+b*b == c*c:\n",
    "                answer.append((a,b,c))\n",
    "end_time = time.time()\n",
    "print(answer)\n",
    "print('Cost Time:',end_time-start_time)\n",
    "    "
   ]
  },
  {
   "cell_type": "code",
   "execution_count": 7,
   "metadata": {
    "collapsed": true
   },
   "outputs": [],
   "source": [
    "# 算法是独立存在的一种解决问题的方法和思想。"
   ]
  },
  {
   "cell_type": "code",
   "execution_count": 8,
   "metadata": {
    "collapsed": true
   },
   "outputs": [],
   "source": [
    "# 算法的五大特性\n",
    "\n",
    "# 输入: 算法具有0个或多个输入\n",
    "# 输出: 算法至少有1个或多个输出\n",
    "# 有穷性: 算法在有限的步骤之后会自动结束而不会无限循环，并且每一个步骤可以在可接受的时间内完成\n",
    "# 确定性：算法中的每一步都有确定的含义，不会出现二义性\n",
    "# 可行性：算法的每一步都是可行的，也就是说每一步都能够执行有限的次数完成"
   ]
  },
  {
   "cell_type": "code",
   "execution_count": null,
   "metadata": {
    "collapsed": true
   },
   "outputs": [],
   "source": []
  },
  {
   "cell_type": "code",
   "execution_count": null,
   "metadata": {
    "collapsed": true
   },
   "outputs": [],
   "source": []
  },
  {
   "cell_type": "code",
   "execution_count": null,
   "metadata": {
    "collapsed": true
   },
   "outputs": [],
   "source": []
  },
  {
   "cell_type": "code",
   "execution_count": null,
   "metadata": {
    "collapsed": true
   },
   "outputs": [],
   "source": []
  }
 ],
 "metadata": {
  "kernelspec": {
   "display_name": "Python 3",
   "language": "python",
   "name": "python3"
  },
  "language_info": {
   "codemirror_mode": {
    "name": "ipython",
    "version": 3
   },
   "file_extension": ".py",
   "mimetype": "text/x-python",
   "name": "python",
   "nbconvert_exporter": "python",
   "pygments_lexer": "ipython3",
   "version": "3.6.2"
  }
 },
 "nbformat": 4,
 "nbformat_minor": 2
}
