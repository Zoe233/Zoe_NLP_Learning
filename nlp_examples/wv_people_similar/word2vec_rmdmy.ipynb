{
 "cells": [
  {
   "cell_type": "code",
   "execution_count": 1,
   "metadata": {
    "collapsed": true
   },
   "outputs": [],
   "source": [
    "# gensim word2vec实例"
   ]
  },
  {
   "cell_type": "code",
   "execution_count": 2,
   "metadata": {},
   "outputs": [
    {
     "name": "stdout",
     "output_type": "stream",
     "text": [
      "\n"
     ]
    }
   ],
   "source": [
    "'''\n",
    "gensim word2vec API概述\n",
    "在gensim中，word2vec相关的API都在包gensim.models.word2vec中。\n",
    "和算法有关的参数都在类gensim.models.word2vec.Word2Vec中。\n",
    "\n",
    "算法需要注意的参数有：\n",
    "1.sentences 我们需要分析的语料，可以是一个列表，或者从文件中遍历读出。\n",
    "2.size 词向量的维度，默认值是100。\n",
    "    这个维度的取值一般与我们的语料的大小相关，如果是不大的语料，比如小于100M的文本语料，\n",
    "    则使用默认值一般就可以。\n",
    "    如果是超大的语料，建议增大维度。\n",
    "3.window 即词向量上下文最大距离，这个参数在我们的算法原理篇中标记为c，\n",
    "    window越大，则和某一词较远的词也会产生上下文关系。\n",
    "    默认值为5.\n",
    "    在实际使用中，可以根据实际的需求来动态调整这个window的大小。\n",
    "    如果是小语料则这个值可以设的更小。\n",
    "    对于一般的语料这个值推荐在[5,10]之间。\n",
    "4.sg 即我们的word2vec两个模型的选择。\n",
    "    如果是0，则是CBOW模型；\n",
    "    如果是1，则是Skip-Gram模型。\n",
    "    默认是0，即CBOW模型。\n",
    "5.hs 即我们的word2vec两个解法的选择。\n",
    "    如果是0，则是Negative Sampling;\n",
    "    如果是1，则是Hierarchical Softmax.\n",
    "    默认是0即 Negative Sampling.\n",
    "6.negative 即使用Negative Sampling时负采样的个数，默认是5.\n",
    "    推荐在[3,10]之间。\n",
    "    这个参数在我们的算法原理篇中标记为ng。\n",
    "7.cbow_mean 仅用于CBOW在做投影的时候，\n",
    "    为0，则算法中的x_{w}为上下文的词向量之和；\n",
    "    为1，则为上下文的词向量的平均值。\n",
    "    默认值为1，不推荐修改默认值。\n",
    "8.min_count 需要计算词向量的最小词频。\n",
    "    这个值可以去掉一些很生僻的低频词，默认是5.\n",
    "    如果是小语料，可以调低这个值。\n",
    "9.iter 随机梯度下降法中迭代的最大次数，默认是5.\n",
    "    对于大语料，可以增大这个值。\n",
    "10.alpha 在随机梯度下降法中迭代的初始步长。\n",
    "    算法原理篇中标记为η，默认是0.025.\n",
    "11.min_alpha 由于算法支持在迭代的过程中逐渐减小步长,\n",
    "    此处为最小的迭代步长值。\n",
    "    随机梯度下降中每轮的迭代步长可以由iter,alpha,min_alpha一起得出。\n",
    "    对于大语料，需要对alpha,min_alpha,iter一起调参，来选择合适的三个值。\n",
    "'''"
   ]
  },
  {
   "cell_type": "code",
   "execution_count": 23,
   "metadata": {
    "collapsed": true
   },
   "outputs": [],
   "source": [
    "# 《人民的名义》的小说原文作为语料。"
   ]
  },
  {
   "cell_type": "code",
   "execution_count": 24,
   "metadata": {
    "collapsed": true
   },
   "outputs": [],
   "source": [
    "import os\n",
    "import jieba\n",
    "import jieba.analyse\n",
    "from gensim.models import word2vec"
   ]
  },
  {
   "cell_type": "code",
   "execution_count": 25,
   "metadata": {
    "collapsed": true
   },
   "outputs": [],
   "source": [
    "FILENAME = 'in_the_name_of_people.txt'"
   ]
  },
  {
   "cell_type": "code",
   "execution_count": 28,
   "metadata": {},
   "outputs": [
    {
     "data": {
      "text/plain": [
       "1"
      ]
     },
     "execution_count": 28,
     "metadata": {},
     "output_type": "execute_result"
    }
   ],
   "source": [
    "# 调整字典，添加词汇\n",
    "jieba.suggest_freq('沙瑞金', True)\n",
    "jieba.suggest_freq('田国富', True)\n",
    "jieba.suggest_freq('高育良', True)\n",
    "jieba.suggest_freq('侯亮平', True)\n",
    "jieba.suggest_freq('钟小艾', True)\n",
    "jieba.suggest_freq('陈岩石', True)\n",
    "jieba.suggest_freq('欧阳菁', True)\n",
    "jieba.suggest_freq('易学习', True)\n",
    "jieba.suggest_freq('王大路', True)\n",
    "jieba.suggest_freq('蔡成功', True)\n",
    "jieba.suggest_freq('孙连城', True)\n",
    "jieba.suggest_freq('季昌明', True)\n",
    "jieba.suggest_freq('丁义珍', True)\n",
    "jieba.suggest_freq('郑西坡', True)\n",
    "jieba.suggest_freq('赵东来', True)\n",
    "jieba.suggest_freq('高小琴', True)\n",
    "jieba.suggest_freq('赵瑞龙', True)\n",
    "jieba.suggest_freq('林华华', True)\n",
    "jieba.suggest_freq('陆亦可', True)\n",
    "jieba.suggest_freq('刘新建', True)\n",
    "jieba.suggest_freq('刘庆祝', True)"
   ]
  },
  {
   "cell_type": "code",
   "execution_count": 27,
   "metadata": {},
   "outputs": [],
   "source": [
    "# 分词\n",
    "with open(FILENAME,'r') as f:\n",
    "    document = f.read()\n",
    "    document_cut = jieba.cut(document)\n",
    "    result = ' '.join(document_cut)\n",
    "\n",
    "with open('people_segments.txt','w') as f:\n",
    "    f.write(result)"
   ]
  },
  {
   "cell_type": "code",
   "execution_count": 22,
   "metadata": {},
   "outputs": [],
   "source": [
    "# 加载停用词，由于此处是使用word2vec，考虑到上下文，所以不加载停用词\n",
    "# stpwrd = open('stop_words.txt','r').read()\n",
    "# stpwrdlst = stpwrd.splitlines()"
   ]
  },
  {
   "cell_type": "code",
   "execution_count": 29,
   "metadata": {},
   "outputs": [],
   "source": [
    "# 用word2vec提供的LineSentence类来读文件。\n",
    "sentences = word2vec.LineSentence('people_segments.txt')"
   ]
  },
  {
   "cell_type": "code",
   "execution_count": 33,
   "metadata": {},
   "outputs": [],
   "source": [
    "# 构造Word2Vec实例\n",
    "model = word2vec.Word2Vec(sentences, hs=1, min_count =1, window =3, size=100)"
   ]
  },
  {
   "cell_type": "code",
   "execution_count": 34,
   "metadata": {
    "collapsed": true
   },
   "outputs": [],
   "source": [
    "# 常用应用介绍："
   ]
  },
  {
   "cell_type": "code",
   "execution_count": 36,
   "metadata": {},
   "outputs": [
    {
     "name": "stdout",
     "output_type": "stream",
     "text": [
      "[('高育良', 0.9401112794876099), ('李达康', 0.9266355037689209), ('易学习', 0.9027300477027893), ('肖钢玉', 0.8982406854629517), ('报告', 0.8944628238677979), ('祁同伟', 0.8936658501625061), ('一下', 0.8913800716400146), ('陈海', 0.8909031748771667), ('介绍', 0.8893004655838013), ('又', 0.8892979621887207)]\n"
     ]
    }
   ],
   "source": [
    "# 1.找出某一个词向量最相近的词集合\n",
    "print(model.wv.similar_by_word('沙瑞金',topn=10))"
   ]
  },
  {
   "cell_type": "code",
   "execution_count": 38,
   "metadata": {},
   "outputs": [
    {
     "name": "stdout",
     "output_type": "stream",
     "text": [
      "0.9401112877580539\n",
      "0.8929893437592946\n"
     ]
    }
   ],
   "source": [
    "# 2.看两个词向量的相近程度\n",
    "print(model.wv.similarity('沙瑞金','高育良'))\n",
    "print(model.wv.similarity('李达康','王大路'))"
   ]
  },
  {
   "cell_type": "code",
   "execution_count": 42,
   "metadata": {},
   "outputs": [
    {
     "name": "stdout",
     "output_type": "stream",
     "text": [
      "贪污\n"
     ]
    }
   ],
   "source": [
    "# 3.找出不同类的词\n",
    "print(model.wv.doesnt_match((\"沙瑞金\",\"高育良\",\"李达康\",\"刘庆祝\",'贪污')))"
   ]
  }
 ],
 "metadata": {
  "kernelspec": {
   "display_name": "Python 3",
   "language": "python",
   "name": "python3"
  },
  "language_info": {
   "codemirror_mode": {
    "name": "ipython",
    "version": 3
   },
   "file_extension": ".py",
   "mimetype": "text/x-python",
   "name": "python",
   "nbconvert_exporter": "python",
   "pygments_lexer": "ipython3",
   "version": "3.6.2"
  }
 },
 "nbformat": 4,
 "nbformat_minor": 2
}
