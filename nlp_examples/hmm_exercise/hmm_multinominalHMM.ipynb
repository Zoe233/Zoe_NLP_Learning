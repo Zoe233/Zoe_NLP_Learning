{
 "cells": [
  {
   "cell_type": "code",
   "execution_count": 3,
   "metadata": {
    "collapsed": true
   },
   "outputs": [],
   "source": [
    "# hmmlearn使用HMM"
   ]
  },
  {
   "cell_type": "code",
   "execution_count": null,
   "metadata": {
    "collapsed": true
   },
   "outputs": [],
   "source": [
    "# hmmlearn实现了三种HMM模型类，\n",
    "# 按照观测状态是连续状态还是离散状态，可以分为两类。\n",
    "# GaussianHMM和GMMHMM是连续观测状态的HMM模型，\n",
    "# 而MultinomialHMM是离散观测状态的模型--是我们学习的时候使用的模型。"
   ]
  },
  {
   "cell_type": "code",
   "execution_count": 4,
   "metadata": {
    "collapsed": true
   },
   "outputs": [],
   "source": [
    "# 对于MultinomialHMM的模型，使用比较简单，\n",
    "# 'startprob_'参数对应我们的隐藏状态初始分布Π，\n",
    "# 'transmat_'对应我们的状态转移矩阵A，\n",
    "# 'emissionprob_'对应我们的观测状态概率矩阵B。"
   ]
  },
  {
   "cell_type": "code",
   "execution_count": 5,
   "metadata": {
    "collapsed": true
   },
   "outputs": [],
   "source": [
    "# 对于连续观测状态的HMM模型，GaussianHMM类假设观测状态符合高斯分布，\n",
    "# 而GMMHMM类则假设观测状态符合混合高斯分布。\n",
    "\n",
    "# 一般情况下，我们使用GussianHMM即高斯分布的观测状态即可。\n",
    "# 以下对于连续观测状态的HMM模型，我们只讨论GaussianHMM类。"
   ]
  },
  {
   "cell_type": "code",
   "execution_count": 6,
   "metadata": {
    "collapsed": true
   },
   "outputs": [],
   "source": [
    "# 在GaussianHMM类中，\n",
    "# \"startprob_\"参数对应我们的隐藏状态初始分布Π, \n",
    "# \"transmat_\"对应我们的状态转移矩阵A, \n",
    "# 比较特殊的是观测状态概率的表示方法，\n",
    "# 此时由于观测状态是连续值，我们无法像MultinomialHMM一样直接给出矩阵B。\n",
    "# 而是采用给出各个隐藏状态对应的观测状态高斯分布的概率密度函数的参数。"
   ]
  },
  {
   "cell_type": "code",
   "execution_count": null,
   "metadata": {
    "collapsed": true
   },
   "outputs": [],
   "source": [
    "# 如果观测序列是一维的，则观测状态的概率密度函数是一维的普通高斯分布。\n",
    "# 如果观测序列是N维的，则隐藏状态对应的观测状态的概率密度函数是N维高斯分布。\n",
    "# 高斯分布的概率密度函数参数可以用μ表示高斯分布的期望向量，Σ表示高斯分布的协方差矩阵。\n",
    "# 在GaussianHMM类中，\n",
    "# “means”用来表示各个隐藏状态对应的高斯分布期望向量μ形成的矩阵，\n",
    "# 而“covars”用来表示各个隐藏状态对应的高斯分布协方差矩阵Σ形成的三维张量。"
   ]
  },
  {
   "cell_type": "code",
   "execution_count": 7,
   "metadata": {
    "collapsed": true
   },
   "outputs": [],
   "source": [
    "# MultinomialHMM实例"
   ]
  },
  {
   "cell_type": "code",
   "execution_count": 8,
   "metadata": {
    "collapsed": true
   },
   "outputs": [],
   "source": [
    "import numpy as np\n",
    "from hmmlearn import hmm"
   ]
  },
  {
   "cell_type": "code",
   "execution_count": 9,
   "metadata": {
    "collapsed": true
   },
   "outputs": [],
   "source": [
    "# 隐藏状态集合\n",
    "states = ['box 1','box 2','box 3']\n",
    "n_states = len(states)"
   ]
  },
  {
   "cell_type": "code",
   "execution_count": 10,
   "metadata": {
    "collapsed": true
   },
   "outputs": [],
   "source": [
    "# 可见观察符合集合\n",
    "observations = ['red','white']\n",
    "n_observations = len(observations)"
   ]
  },
  {
   "cell_type": "code",
   "execution_count": 15,
   "metadata": {
    "collapsed": true
   },
   "outputs": [],
   "source": [
    "# 初始状态π\n",
    "start_probability = np.array([0.2,0.4,0.4])"
   ]
  },
  {
   "cell_type": "code",
   "execution_count": 12,
   "metadata": {
    "collapsed": true
   },
   "outputs": [],
   "source": [
    "# 状态转移概率矩阵A\n",
    "transition_probability = np.array([[0.5,0.2,0.3],\n",
    "                                  [0.3,0.5,0.2],\n",
    "                                  [0.2,0.3,0.5]])"
   ]
  },
  {
   "cell_type": "code",
   "execution_count": 13,
   "metadata": {
    "collapsed": true
   },
   "outputs": [],
   "source": [
    "# 符合发射概率矩阵B\n",
    "emission_probability = np.array([[0.5,0.5],\n",
    "                                [0.4,0.6],\n",
    "                                [0.7,0.3]])"
   ]
  },
  {
   "cell_type": "code",
   "execution_count": 20,
   "metadata": {},
   "outputs": [],
   "source": [
    "# 构建HMM模型\n",
    "model = hmm.MultinomialHMM(n_components = n_states)\n",
    "model.startprob_ = start_probability\n",
    "model.transmat_ = transition_probability\n",
    "model.emissionprob_ = emission_probability"
   ]
  },
  {
   "cell_type": "code",
   "execution_count": 21,
   "metadata": {
    "collapsed": true
   },
   "outputs": [],
   "source": [
    "# 跑一跑HMM基本问题2：维特比算法的解码过程 P(S|O)"
   ]
  },
  {
   "cell_type": "code",
   "execution_count": 22,
   "metadata": {},
   "outputs": [
    {
     "data": {
      "text/plain": [
       "(3, 1)"
      ]
     },
     "execution_count": 22,
     "metadata": {},
     "output_type": "execute_result"
    }
   ],
   "source": [
    "# 定义观察序列\n",
    "seen = np.array([[0,1,0]]).T\n",
    "seen.shape"
   ]
  },
  {
   "cell_type": "code",
   "execution_count": 39,
   "metadata": {},
   "outputs": [
    {
     "name": "stdout",
     "output_type": "stream",
     "text": [
      "-4.219907785197447\n",
      "[2 2 2]\n",
      "The ball picked: red, white, red\n",
      "The hidden box: box 3,box 3,box 3\n"
     ]
    }
   ],
   "source": [
    "# 用维特比算法解码获得对应的状态序列\n",
    "logprob, box = model.decode(seen, algorithm='viterbi')\n",
    "print(logprob)\n",
    "print(box)\n",
    "print(\"The ball picked:\", \", \".join(map(lambda x: observations[int(x)], seen)))\n",
    "print('The hidden box:',','.join(map(lambda x: states[x], box)))\n"
   ]
  },
  {
   "cell_type": "code",
   "execution_count": 40,
   "metadata": {},
   "outputs": [
    {
     "name": "stdout",
     "output_type": "stream",
     "text": [
      "[2 2 2]\n",
      "The ball picked: red, white, red\n",
      "The hidden box box 3, box 3, box 3\n"
     ]
    }
   ],
   "source": [
    "# 也可以使用predict函数\n",
    "box2 = model.predict(seen)\n",
    "print(box2)\n",
    "print(\"The ball picked:\", \", \".join(map(lambda x: observations[int(x)], seen)))\n",
    "print(\"The hidden box\", \", \".join(map(lambda x: states[int(x)], box2)))"
   ]
  },
  {
   "cell_type": "code",
   "execution_count": 41,
   "metadata": {},
   "outputs": [
    {
     "name": "stdout",
     "output_type": "stream",
     "text": [
      "-2.038545309915233\n"
     ]
    }
   ],
   "source": [
    "# HMM问题一的求解P(O|λ)观测序列概率问题\n",
    "print(model.score(seen))\n",
    "# 要注意的是score函数返回的是以自然数为底的对数概率只。\n",
    "# 手动计算的结果是对未取对数的原始概率值0.13022"
   ]
  },
  {
   "cell_type": "code",
   "execution_count": 49,
   "metadata": {},
   "outputs": [
    {
     "data": {
      "text/plain": [
       "-2.038529951173421"
      ]
     },
     "execution_count": 49,
     "metadata": {},
     "output_type": "execute_result"
    }
   ],
   "source": [
    "# 对比一下\n",
    "import math\n",
    "math.log(0.13022,math.e)"
   ]
  },
  {
   "cell_type": "code",
   "execution_count": null,
   "metadata": {},
   "outputs": [],
   "source": []
  },
  {
   "cell_type": "code",
   "execution_count": 50,
   "metadata": {
    "collapsed": true
   },
   "outputs": [],
   "source": [
    "# HMM问题三的求解，模型参数问题\n",
    "# 由于鲍姆-韦尔奇算法是基于EM算法的近似算法，我们需要多跑几次。\n",
    "# 下面我们跑三次，选择一个比较优的模型参数。"
   ]
  },
  {
   "cell_type": "code",
   "execution_count": 52,
   "metadata": {
    "collapsed": true
   },
   "outputs": [],
   "source": [
    "import numpy as np\n",
    "from hmmlearn import hmm"
   ]
  },
  {
   "cell_type": "code",
   "execution_count": 53,
   "metadata": {
    "collapsed": true
   },
   "outputs": [],
   "source": [
    "# 定义隐藏状态集合和 可见观察集合\n",
    "states = [\"box 1\", \"box 2\", \"box3\"]\n",
    "n_states = len(states)\n",
    "\n",
    "observations = [\"red\", \"white\"]\n",
    "n_observations = len(observations)"
   ]
  },
  {
   "cell_type": "code",
   "execution_count": 54,
   "metadata": {
    "collapsed": true
   },
   "outputs": [],
   "source": [
    "# 定义模型\n",
    "model2 = hmm.MultinomialHMM(n_components = n_states, \n",
    "                            n_iter = 20, \n",
    "                            tol = 0.01)"
   ]
  },
  {
   "cell_type": "code",
   "execution_count": 55,
   "metadata": {
    "collapsed": true
   },
   "outputs": [],
   "source": [
    "# 不同的可见的观察序列，用于模型的参数估计\n",
    "X2 = np.array([[0,1,0,1],\n",
    "              [0,0,0,1],\n",
    "              [1,0,1,1]])"
   ]
  },
  {
   "cell_type": "code",
   "execution_count": 56,
   "metadata": {},
   "outputs": [
    {
     "data": {
      "text/plain": [
       "MultinomialHMM(algorithm='viterbi', init_params='ste', n_components=3,\n",
       "        n_iter=20, params='ste',\n",
       "        random_state=<mtrand.RandomState object at 0x1113f5cf0>,\n",
       "        startprob_prior=1.0, tol=0.01, transmat_prior=1.0, verbose=False)"
      ]
     },
     "execution_count": 56,
     "metadata": {},
     "output_type": "execute_result"
    }
   ],
   "source": [
    "model2.fit(X2)"
   ]
  },
  {
   "cell_type": "code",
   "execution_count": 57,
   "metadata": {},
   "outputs": [
    {
     "name": "stdout",
     "output_type": "stream",
     "text": [
      "[2.09524164e-02 2.41818597e-23 9.79047584e-01]\n",
      "[[3.00849648e-01 6.50639228e-01 4.85111240e-02]\n",
      " [2.15137764e-01 3.87834688e-01 3.97027547e-01]\n",
      " [9.97272196e-03 9.89910103e-01 1.17174628e-04]]\n",
      "[[9.25220802e-01 7.47791984e-02]\n",
      " [1.34889296e-01 8.65110704e-01]\n",
      " [9.99171912e-01 8.28087714e-04]]\n",
      "-6.68941903384501\n"
     ]
    }
   ],
   "source": [
    "# 初始概率π\n",
    "print(model2.startprob_)\n",
    "# 状态转移概率矩阵A\n",
    "print(model2.transmat_)\n",
    "# 符号发射概率矩阵B\n",
    "print(model2.emissionprob_)\n",
    "# 基本问题一的P(O|λ)概率\n",
    "print(model2.score(X2))"
   ]
  },
  {
   "cell_type": "code",
   "execution_count": 58,
   "metadata": {},
   "outputs": [
    {
     "data": {
      "text/plain": [
       "MultinomialHMM(algorithm='viterbi', init_params='ste', n_components=3,\n",
       "        n_iter=20, params='ste',\n",
       "        random_state=<mtrand.RandomState object at 0x1113f5cf0>,\n",
       "        startprob_prior=1.0, tol=0.01, transmat_prior=1.0, verbose=False)"
      ]
     },
     "execution_count": 58,
     "metadata": {},
     "output_type": "execute_result"
    }
   ],
   "source": [
    "model2.fit(X2)"
   ]
  },
  {
   "cell_type": "code",
   "execution_count": 59,
   "metadata": {},
   "outputs": [
    {
     "name": "stdout",
     "output_type": "stream",
     "text": [
      "[1.00000000e+00 2.58198790e-11 4.40625994e-22]\n",
      "[[1.42431066e-07 2.22914196e-01 7.77085661e-01]\n",
      " [7.57072539e-01 1.31134370e-01 1.11793091e-01]\n",
      " [5.66587097e-01 1.00935330e-01 3.32477572e-01]]\n",
      "[[9.99935344e-01 6.46563741e-05]\n",
      " [3.54134111e-01 6.45865889e-01]\n",
      " [1.06751340e-01 8.93248660e-01]]\n",
      "-6.498981934979207\n"
     ]
    }
   ],
   "source": [
    "# 初始概率π\n",
    "print(model2.startprob_)\n",
    "# 状态转移概率矩阵A\n",
    "print(model2.transmat_)\n",
    "# 符号发射概率矩阵B\n",
    "print(model2.emissionprob_)\n",
    "# 基本问题一的P(O|λ)概率\n",
    "print(model2.score(X2))"
   ]
  },
  {
   "cell_type": "code",
   "execution_count": 60,
   "metadata": {
    "collapsed": true
   },
   "outputs": [],
   "source": [
    "# ...结果这里就略去了，最终我们会选择分数最高的模型参数。"
   ]
  },
  {
   "cell_type": "code",
   "execution_count": 61,
   "metadata": {
    "collapsed": true
   },
   "outputs": [],
   "source": [
    "# 以上就是用MultinomialHMM解决HMM模型三个问题的方法。"
   ]
  },
  {
   "cell_type": "code",
   "execution_count": 62,
   "metadata": {},
   "outputs": [
    {
     "name": "stdout",
     "output_type": "stream",
     "text": [
      "**************************************************\n"
     ]
    }
   ],
   "source": [
    "print('*'*50)"
   ]
  },
  {
   "cell_type": "code",
   "execution_count": 63,
   "metadata": {
    "collapsed": true
   },
   "outputs": [],
   "source": [
    "# GaussianHMM实例\n",
    "# 下面我们再给一个GaussianHMM的实例，\n",
    "# 在这个实例汇总，我们的观测状态是二维的，而隐藏状态有4个。\n",
    "# 因此我们'means'参数是4*2的矩阵，而'covars'参数是4*2*2的张量。"
   ]
  },
  {
   "cell_type": "code",
   "execution_count": 64,
   "metadata": {
    "collapsed": true
   },
   "outputs": [],
   "source": [
    "# 初始状态概率π\n",
    "startprob = np.array([0.6,0.3,0.1,0.0])"
   ]
  },
  {
   "cell_type": "code",
   "execution_count": 66,
   "metadata": {},
   "outputs": [],
   "source": [
    "# 隐藏序列状态转移概率矩阵A\n",
    "transmat = np.array([[0.7,0.2,0.0,0.1],\n",
    "                    [0.3,0.5,0.2,0.0],\n",
    "                    [0.0,0.3,0.5,0.2],\n",
    "                    [0.2,0.0,0.2,0.6]])"
   ]
  },
  {
   "cell_type": "code",
   "execution_count": 67,
   "metadata": {
    "collapsed": true
   },
   "outputs": [],
   "source": [
    "# The means of each compont\n",
    "means = np.array([[0.0,0.0],\n",
    "                 [0.0,11.0],\n",
    "                 [9.0,10.0],\n",
    "                 [11.0,-1.0]])"
   ]
  },
  {
   "cell_type": "code",
   "execution_count": 68,
   "metadata": {
    "collapsed": true
   },
   "outputs": [],
   "source": [
    "# The covariance of each component\n",
    "covars = 0.5*np.tile(np.identity(2),(4,1,1))"
   ]
  },
  {
   "cell_type": "code",
   "execution_count": 69,
   "metadata": {
    "collapsed": true
   },
   "outputs": [],
   "source": [
    "# 创建HMM实例，设置参数\n",
    "model3 = hmm.GaussianHMM(n_components = 4, covariance_type ='full')"
   ]
  },
  {
   "cell_type": "code",
   "execution_count": 70,
   "metadata": {
    "collapsed": true
   },
   "outputs": [],
   "source": [
    "# Instead of fitting it from the data, we directly set the estimated\n",
    "# parameters, the means and covariance of the components\n",
    "model3.startprob_ = startprob\n",
    "model3.transmat_ = transmat\n",
    "model3.means_ = means\n",
    "model3.covars_ = covars"
   ]
  },
  {
   "cell_type": "code",
   "execution_count": 71,
   "metadata": {
    "collapsed": true
   },
   "outputs": [],
   "source": [
    "# 注意上面有个参数covariance_type，\n",
    "# 取值为\"full\"意味所有的μ,Σ都需要指定。\n",
    "# 取值为“spherical”则Σ的非对角线元素为0，对角线元素相同。\n",
    "# 取值为“diag”则Σ的非对角线元素为0，对角线元素可以不同，\n",
    "# \"tied\"指所有的隐藏状态对应的观测状态分布使用相同的协方差矩阵 Σ"
   ]
  },
  {
   "cell_type": "code",
   "execution_count": null,
   "metadata": {},
   "outputs": [],
   "source": []
  },
  {
   "cell_type": "code",
   "execution_count": null,
   "metadata": {
    "collapsed": true
   },
   "outputs": [],
   "source": []
  }
 ],
 "metadata": {
  "kernelspec": {
   "display_name": "Python 3",
   "language": "python",
   "name": "python3"
  },
  "language_info": {
   "codemirror_mode": {
    "name": "ipython",
    "version": 3
   },
   "file_extension": ".py",
   "mimetype": "text/x-python",
   "name": "python",
   "nbconvert_exporter": "python",
   "pygments_lexer": "ipython3",
   "version": "3.6.2"
  }
 },
 "nbformat": 4,
 "nbformat_minor": 2
}
