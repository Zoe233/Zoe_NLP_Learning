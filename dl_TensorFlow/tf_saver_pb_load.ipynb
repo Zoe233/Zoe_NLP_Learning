{
 "cells": [
  {
   "cell_type": "code",
   "execution_count": 1,
   "metadata": {
    "collapsed": true
   },
   "outputs": [],
   "source": [
    "# 一个典型的PB文件保存示例"
   ]
  },
  {
   "cell_type": "code",
   "execution_count": 2,
   "metadata": {},
   "outputs": [
    {
     "name": "stderr",
     "output_type": "stream",
     "text": [
      "/Users/zoe/anaconda3/lib/python3.6/site-packages/h5py/__init__.py:36: FutureWarning: Conversion of the second argument of issubdtype from `float` to `np.floating` is deprecated. In future, it will be treated as `np.float64 == np.dtype(float).type`.\n",
      "  from ._conv import register_converters as _register_converters\n"
     ]
    }
   ],
   "source": [
    "import os\n",
    "import tensorflow as tf\n",
    "from tensorflow.python.framework import graph_util"
   ]
  },
  {
   "cell_type": "code",
   "execution_count": 3,
   "metadata": {
    "collapsed": true
   },
   "outputs": [],
   "source": [
    "pb_file_path = os.getcwd()"
   ]
  },
  {
   "cell_type": "code",
   "execution_count": 10,
   "metadata": {},
   "outputs": [
    {
     "name": "stdout",
     "output_type": "stream",
     "text": [
      "INFO:tensorflow:Froze 1 variables.\n",
      "Converted 1 variables to const ops.\n",
      ">>>> TEST: 31\n"
     ]
    }
   ],
   "source": [
    "with tf.Session(graph = tf.Graph()) as sess:\n",
    "    x = tf.placeholder(tf.int32, name='x')\n",
    "    y = tf.placeholder(tf.int32, name='y')\n",
    "    b = tf.Variable(1, name='b')\n",
    "    xy = tf.multiply(x,y)\n",
    "    \n",
    "    op = tf.add(xy,b,name='op_to_store') # 这里的op需要加上name属性\n",
    "    \n",
    "    sess.run(tf.global_variables_initializer())\n",
    "    \n",
    "    # convert_variables_to_constants\n",
    "    # 需要指定output_node_names，list()，可以多个\n",
    "    constant_graph = graph_util.convert_variables_to_constants(sess, sess.graph_def, ['op_to_store'])\n",
    "    \n",
    "    # 测试OP\n",
    "    feed_dict = {x:10,y:3}\n",
    "    print('>>>> TEST:',sess.run(op,feed_dict))\n",
    "    \n",
    "    # 写入序列化的PB文件\n",
    "    with tf.gfile.FastGFile(pb_file_path+'model.pb',mode='wb') as f:\n",
    "        f.write(constant_graph.SerializeToString())"
   ]
  },
  {
   "cell_type": "code",
   "execution_count": null,
   "metadata": {
    "collapsed": true
   },
   "outputs": [],
   "source": [
    "# -------保存成功---------"
   ]
  },
  {
   "cell_type": "code",
   "execution_count": null,
   "metadata": {
    "collapsed": true
   },
   "outputs": [],
   "source": [
    "# 加载PB模型文件代码"
   ]
  },
  {
   "cell_type": "code",
   "execution_count": 12,
   "metadata": {},
   "outputs": [],
   "source": [
    "from tensorflow.python.platform import gfile"
   ]
  },
  {
   "cell_type": "code",
   "execution_count": 13,
   "metadata": {
    "collapsed": true
   },
   "outputs": [],
   "source": [
    "sess = tf.Session()"
   ]
  },
  {
   "cell_type": "code",
   "execution_count": 14,
   "metadata": {
    "collapsed": true
   },
   "outputs": [],
   "source": [
    "with gfile.FastGFile(pb_file_path+'model.pb','rb') as f:\n",
    "    graph_def = tf.GraphDef()\n",
    "    graph_def.ParseFromString(f.read())\n",
    "    sess.graph.as_default()\n",
    "    tf.import_graph_def(graph_def, name='') # 导入计算图"
   ]
  },
  {
   "cell_type": "code",
   "execution_count": 15,
   "metadata": {
    "collapsed": true
   },
   "outputs": [],
   "source": [
    "# 初始化\n",
    "sess.run(tf.global_variables_initializer())"
   ]
  },
  {
   "cell_type": "code",
   "execution_count": 16,
   "metadata": {},
   "outputs": [
    {
     "name": "stdout",
     "output_type": "stream",
     "text": [
      "1\n"
     ]
    }
   ],
   "source": [
    "# 先复原变量\n",
    "print(sess.run('b:0'))"
   ]
  },
  {
   "cell_type": "code",
   "execution_count": 17,
   "metadata": {
    "collapsed": true
   },
   "outputs": [],
   "source": [
    "# 输入\n",
    "input_x = sess.graph.get_tensor_by_name('x:0')\n",
    "input_y = sess.graph.get_tensor_by_name('y:0')"
   ]
  },
  {
   "cell_type": "code",
   "execution_count": 18,
   "metadata": {
    "collapsed": true
   },
   "outputs": [],
   "source": [
    "op = sess.graph.get_tensor_by_name('op_to_store:0')"
   ]
  },
  {
   "cell_type": "code",
   "execution_count": 19,
   "metadata": {
    "collapsed": true
   },
   "outputs": [],
   "source": [
    "ret = sess.run(op, feed_dict={input_x:5,input_y:5})"
   ]
  },
  {
   "cell_type": "code",
   "execution_count": 20,
   "metadata": {},
   "outputs": [
    {
     "name": "stdout",
     "output_type": "stream",
     "text": [
      "26\n"
     ]
    }
   ],
   "source": [
    "print(ret)"
   ]
  },
  {
   "cell_type": "code",
   "execution_count": 21,
   "metadata": {
    "collapsed": true
   },
   "outputs": [],
   "source": [
    "# ===========以上相当于加载了PB文件的计算图结构=========="
   ]
  },
  {
   "cell_type": "code",
   "execution_count": null,
   "metadata": {},
   "outputs": [],
   "source": [
    "# PB文件保存方式二"
   ]
  },
  {
   "cell_type": "code",
   "execution_count": 23,
   "metadata": {
    "collapsed": true
   },
   "outputs": [],
   "source": [
    "# 另外保存为save model格式也可以生成PB文件，并且更加简单"
   ]
  },
  {
   "cell_type": "code",
   "execution_count": 36,
   "metadata": {},
   "outputs": [
    {
     "name": "stdout",
     "output_type": "stream",
     "text": [
      "INFO:tensorflow:Froze 1 variables.\n",
      "Converted 1 variables to const ops.\n",
      ">>>> TEST: 31\n",
      "INFO:tensorflow:No assets to save.\n",
      "INFO:tensorflow:No assets to write.\n",
      "INFO:tensorflow:SavedModel written to: b'/Users/zoe/PycharmProjects/Zoe_NLP/dl_TensorFlowsavemodel/saved_model.pb'\n"
     ]
    },
    {
     "data": {
      "text/plain": [
       "b'/Users/zoe/PycharmProjects/Zoe_NLP/dl_TensorFlowsavemodel/saved_model.pb'"
      ]
     },
     "execution_count": 36,
     "metadata": {},
     "output_type": "execute_result"
    }
   ],
   "source": [
    "import os\n",
    "import tensorflow as tf\n",
    "from tensorflow.python.framework import graph_util\n",
    "pb_file_path = os.getcwd()\n",
    "with tf.Session(graph=tf.Graph()) as sess:\n",
    "    x = tf.placeholder(tf.int32,name='x')\n",
    "    y = tf.placeholder(tf.int32,name='y')\n",
    "    b = tf.Variable(1,name='b')\n",
    "    xy = tf.multiply(x,y)\n",
    "    op = tf.add(xy,b,name='op_to_store')\n",
    "    \n",
    "    sess.run(tf.global_variables_initializer())\n",
    "    \n",
    "    constant_graph = graph_util.convert_variables_to_constants(sess,sess.graph_def,['op_to_store'])\n",
    "    \n",
    "    feed_dict = {x:10,y:3}\n",
    "    print('>>>> TEST:',sess.run(op,feed_dict))\n",
    "    \n",
    "#     with tf.gfile.FastGFile(pb_file_path+'model.pb',mode='wb') as f:\n",
    "#         f.write(constant_graph.SerializeToString())\n",
    "        \n",
    "    builder = tf.saved_model.builder.SavedModelBuilder(pb_file_path+'savemodel')\n",
    "    # 构造模型保存的内容，指定要保存的session,特定的tag,输入输出信息字典，额外的信息\n",
    "    builder.add_meta_graph_and_variables(sess,['cpu_server_1'])\n",
    "builder.save()"
   ]
  },
  {
   "cell_type": "code",
   "execution_count": 37,
   "metadata": {
    "collapsed": true
   },
   "outputs": [],
   "source": [
    "# =====保存成功=====>>>> 生成savemodel文件夹，生成saved_model.pb文件和variables文件夹\n",
    "# saved_model.pb用于保存模型结构等信息\n",
    "# variables保存所有变量。"
   ]
  },
  {
   "cell_type": "code",
   "execution_count": 38,
   "metadata": {
    "collapsed": true
   },
   "outputs": [],
   "source": [
    "# 对应的模型导入方法"
   ]
  },
  {
   "cell_type": "code",
   "execution_count": 39,
   "metadata": {},
   "outputs": [
    {
     "name": "stdout",
     "output_type": "stream",
     "text": [
      "INFO:tensorflow:Restoring parameters from b'/Users/zoe/PycharmProjects/Zoe_NLP/dl_TensorFlowsavemodel/variables/variables'\n",
      ">>>> 51\n"
     ]
    }
   ],
   "source": [
    "with tf.Session(graph=tf.Graph()) as sess:\n",
    "    # 只需要指定加载模型的session,模型的tag,模型的保存路径即可\n",
    "    tf.saved_model.loader.load(sess,['cpu_server_1'],pb_file_path+'savemodel')\n",
    "    sess.run(tf.global_variables_initializer())\n",
    "    \n",
    "    input_x = sess.graph.get_tensor_by_name('x:0')\n",
    "    input_y = sess.graph.get_tensor_by_name('y:0')\n",
    "    \n",
    "    op = sess.graph.get_tensor_by_name('op_to_store:0')\n",
    "    \n",
    "    ret = sess.run(op, feed_dict={input_x:10, input_y:5})\n",
    "    print('>>>>',ret)"
   ]
  },
  {
   "cell_type": "code",
   "execution_count": 40,
   "metadata": {
    "collapsed": true
   },
   "outputs": [],
   "source": [
    "# 以上两种模型的加载方式中都要知道tensor的name。\n",
    "# 那么如何可以在不知道tensor name的情况下使用呢，实现彻底的解耦呢？\n",
    "# 在保存时给add_meta_graph_and_variables方法传入第三个参数，signature_def_map即可。"
   ]
  },
  {
   "cell_type": "code",
   "execution_count": null,
   "metadata": {
    "collapsed": true
   },
   "outputs": [],
   "source": []
  },
  {
   "cell_type": "code",
   "execution_count": 41,
   "metadata": {
    "collapsed": true
   },
   "outputs": [],
   "source": [
    "# ============拓展========="
   ]
  },
  {
   "cell_type": "code",
   "execution_count": 42,
   "metadata": {
    "collapsed": true
   },
   "outputs": [],
   "source": [
    "# 保存为ckpt的时候，直接加载网络结构的使用方法"
   ]
  },
  {
   "cell_type": "code",
   "execution_count": 43,
   "metadata": {
    "collapsed": true
   },
   "outputs": [],
   "source": [
    "def restore_model_ckpt(ckpt_file_path):\n",
    "    '''保存ckpt格式的文件'''\n",
    "    sess = tf.Session()\n",
    "    \n",
    "    # 加载模型结构\n",
    "    saver = tf.train.import_meta_graph('./ckpt/model.ckpt.meta')\n",
    "    # 只需要指定目录就可以恢复所有变量信息\n",
    "    saver.restore(sess,tf.train.latest_checkpoint('.ckpt'))\n",
    "    \n",
    "    # 直接获取保存的变量\n",
    "    print(sess.run('b:0'))\n",
    "    \n",
    "    # 获取placeholder变量\n",
    "    input_x = sess.graph.get_tensor_by_name('x:0')\n",
    "    input_y = sess.graph.get_tensor_by_name('y:0')\n",
    "    \n",
    "    # 获取需要进行计算的operator\n",
    "    op = sess.graph.get_tensor_by_name('op_to_store:0')\n",
    "    \n",
    "    # 加入新的操作\n",
    "    add_on_op = tf.multiply(op, 2)\n",
    "    \n",
    "    ret = sess.run(add_on_op, {input_x: 5, input_y: 5})\n",
    "    print(ret) "
   ]
  },
  {
   "cell_type": "code",
   "execution_count": null,
   "metadata": {
    "collapsed": true
   },
   "outputs": [],
   "source": []
  }
 ],
 "metadata": {
  "kernelspec": {
   "display_name": "Python 3",
   "language": "python",
   "name": "python3"
  },
  "language_info": {
   "codemirror_mode": {
    "name": "ipython",
    "version": 3
   },
   "file_extension": ".py",
   "mimetype": "text/x-python",
   "name": "python",
   "nbconvert_exporter": "python",
   "pygments_lexer": "ipython3",
   "version": "3.6.2"
  }
 },
 "nbformat": 4,
 "nbformat_minor": 2
}
